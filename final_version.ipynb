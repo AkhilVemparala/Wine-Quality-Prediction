{
 "cells": [
  {
   "cell_type": "code",
   "execution_count": 1,
   "metadata": {},
   "outputs": [],
   "source": [
    "#import lib"
   ]
  },
  {
   "cell_type": "code",
   "execution_count": 2,
   "metadata": {},
   "outputs": [],
   "source": [
    "import os\n",
    "import pandas as pd\n",
    "import seaborn as sns\n",
    "import matplotlib.pyplot as plt\n",
    "%matplotlib inline\n",
    "from sklearn.metrics import accuracy_score\n",
    "from sklearn import svm\n",
    "from sklearn.neighbors import KNeighborsClassifier\n",
    "from sklearn.naive_bayes import GaussianNB\n",
    "from sklearn.decomposition import PCA\n",
    "from sklearn.model_selection import cross_val_score\n",
    "from sklearn.pipeline import Pipeline\n",
    "from sklearn.model_selection import GridSearchCV\n",
    "from sklearn.model_selection import StratifiedKFold\n",
    "import collections\n",
    "from sklearn.preprocessing import LabelEncoder\n",
    "import imblearn\n",
    "from collections import Counter\n",
    "from imblearn.combine import SMOTETomek\n",
    "from imblearn.over_sampling import SMOTE\n",
    "from imblearn.under_sampling import TomekLinks,ClusterCentroids\n",
    "from sklearn.metrics import confusion_matrix, classification_report\n",
    "import numpy as np\n",
    "from sklearn.ensemble import RandomForestClassifier\n",
    "from sklearn.svm import SVC\n",
    "from sklearn.metrics import confusion_matrix, classification_report\n",
    "from sklearn.preprocessing import StandardScaler, LabelEncoder\n",
    "from sklearn.model_selection import train_test_split, GridSearchCV, cross_val_score\n",
    "from sklearn.model_selection import train_test_split\n",
    "from sklearn.tree import DecisionTreeClassifier\n",
    "from sklearn.metrics import confusion_matrix, classification_report"
   ]
  },
  {
   "cell_type": "code",
   "execution_count": 3,
   "metadata": {},
   "outputs": [],
   "source": [
    "# import data"
   ]
  },
  {
   "cell_type": "code",
   "execution_count": 4,
   "metadata": {},
   "outputs": [],
   "source": [
    "wine = pd.read_csv('http://archive.ics.uci.edu/ml/machine-learning-databases/wine-quality/winequality-white.csv',delimiter=\";\")"
   ]
  },
  {
   "cell_type": "code",
   "execution_count": 5,
   "metadata": {},
   "outputs": [],
   "source": [
    "# eda"
   ]
  },
  {
   "cell_type": "code",
   "execution_count": 6,
   "metadata": {},
   "outputs": [],
   "source": [
    "quality = wine[\"quality\"].values\n",
    "category = []\n",
    "for num in quality:\n",
    "    if num<5:\n",
    "        category.append(\"Low\")\n",
    "    elif num>6:\n",
    "        category.append(\"High\")\n",
    "    else:\n",
    "        category.append(\"Midium\")\n",
    "category = pd.DataFrame(data=category, columns=[\"category\"])\n",
    "data = pd.concat([wine,category],axis=1)\n",
    "data.drop(columns=\"quality\",axis=1,inplace=True)\n",
    "X = data.iloc[:,:-1].values\n",
    "y = data.iloc[:,-1].values"
   ]
  },
  {
   "cell_type": "code",
   "execution_count": 7,
   "metadata": {},
   "outputs": [],
   "source": [
    "labelencoder_y = LabelEncoder()\n",
    "y = labelencoder_y.fit_transform(y)"
   ]
  },
  {
   "cell_type": "code",
   "execution_count": 8,
   "metadata": {},
   "outputs": [],
   "source": [
    "X_train, X_test, y_train, y_test = train_test_split(X, y, test_size = 0.2,random_state=2018)"
   ]
  },
  {
   "cell_type": "markdown",
   "metadata": {},
   "source": [
    "# build model"
   ]
  },
  {
   "cell_type": "markdown",
   "metadata": {},
   "source": [
    "## random forest"
   ]
  },
  {
   "cell_type": "code",
   "execution_count": 9,
   "metadata": {},
   "outputs": [
    {
     "data": {
      "text/plain": [
       "GridSearchCV(cv=5, error_score='raise-deprecating',\n",
       "       estimator=RandomForestClassifier(bootstrap=True, class_weight=None, criterion='gini',\n",
       "            max_depth=None, max_features='auto', max_leaf_nodes=None,\n",
       "            min_impurity_decrease=0.0, min_impurity_split=None,\n",
       "            min_samples_leaf=1, min_samples_split=2,\n",
       "            min_weight_fraction_leaf=0.0, n_estimators='warn', n_jobs=None,\n",
       "            oob_score=True, random_state=2018, verbose=0, warm_start=False),\n",
       "       fit_params=None, iid='warn', n_jobs=None,\n",
       "       param_grid={'n_estimators': [50, 100, 150, 200, 250], 'min_samples_leaf': [1, 2, 4]},\n",
       "       pre_dispatch='2*n_jobs', refit=True, return_train_score='warn',\n",
       "       scoring='accuracy', verbose=0)"
      ]
     },
     "execution_count": 9,
     "metadata": {},
     "output_type": "execute_result"
    }
   ],
   "source": [
    "clf = RandomForestClassifier(random_state = 2018,oob_score=True)\n",
    "param_dist = {\"n_estimators\": [50,100,150,200,250],\n",
    "              'min_samples_leaf': [1, 2, 4]}\n",
    "rfc_gs = GridSearchCV(clf, param_grid=param_dist,scoring='accuracy', cv=5)\n",
    "rfc_gs.fit(X_train, y_train)"
   ]
  },
  {
   "cell_type": "code",
   "execution_count": 10,
   "metadata": {},
   "outputs": [
    {
     "data": {
      "text/plain": [
       "0.8363961204696274"
      ]
     },
     "execution_count": 10,
     "metadata": {},
     "output_type": "execute_result"
    }
   ],
   "source": [
    "rfc_gs.best_score_"
   ]
  },
  {
   "cell_type": "markdown",
   "metadata": {},
   "source": [
    "## SVM"
   ]
  },
  {
   "cell_type": "code",
   "execution_count": 11,
   "metadata": {},
   "outputs": [],
   "source": [
    "# strtifiedKFold\n",
    "skf = StratifiedKFold(n_splits=4)"
   ]
  },
  {
   "cell_type": "code",
   "execution_count": 12,
   "metadata": {},
   "outputs": [
    {
     "data": {
      "text/plain": [
       "GridSearchCV(cv=StratifiedKFold(n_splits=4, random_state=None, shuffle=False),\n",
       "       error_score='raise-deprecating',\n",
       "       estimator=Pipeline(memory=None,\n",
       "     steps=[('clf', SVC(C=1.0, cache_size=200, class_weight=None, coef0=0.0,\n",
       "  decision_function_shape='ovr', degree=3, gamma='auto_deprecated',\n",
       "  kernel='rbf', max_iter=-1, probability=False, random_state=None,\n",
       "  shrinking=True, tol=0.001, verbose=False))]),\n",
       "       fit_params=None, iid='warn', n_jobs=None,\n",
       "       param_grid={'clf__C': [0.1, 0.3, 1, 3, 10], 'clf__gamma': [0.1, 0.3, 1, 3, 10], 'clf__kernel': ['rbf', 'sigmoid']},\n",
       "       pre_dispatch='2*n_jobs', refit=True, return_train_score='warn',\n",
       "       scoring='accuracy', verbose=0)"
      ]
     },
     "execution_count": 12,
     "metadata": {},
     "output_type": "execute_result"
    }
   ],
   "source": [
    "# grid search before resample \n",
    "pipe_svm=Pipeline([('clf', svm.SVC())])   \n",
    "grid_params = dict(clf__C=[0.1, 0.3, 1, 3, 10],\n",
    "                   clf__gamma=[0.1, 0.3, 1, 3, 10],\n",
    "                   clf__kernel=['rbf','sigmoid'])  \n",
    "gs_svm = GridSearchCV(estimator=pipe_svm,  \n",
    "                  param_grid=grid_params,\n",
    "                  scoring='accuracy',\n",
    "                  cv=skf)\n",
    "gs_svm.fit(X_train, y_train)"
   ]
  },
  {
   "cell_type": "code",
   "execution_count": 13,
   "metadata": {},
   "outputs": [
    {
     "name": "stdout",
     "output_type": "stream",
     "text": [
      "0.8083205717202654\n"
     ]
    }
   ],
   "source": [
    "print(gs_svm.best_score_)"
   ]
  },
  {
   "cell_type": "markdown",
   "metadata": {},
   "source": [
    "## Decision Tree"
   ]
  },
  {
   "cell_type": "code",
   "execution_count": 14,
   "metadata": {},
   "outputs": [
    {
     "name": "stdout",
     "output_type": "stream",
     "text": [
      "Fitting 5 folds for each of 84 candidates, totalling 420 fits\n"
     ]
    },
    {
     "name": "stderr",
     "output_type": "stream",
     "text": [
      "[Parallel(n_jobs=-1)]: Using backend LokyBackend with 8 concurrent workers.\n",
      "[Parallel(n_jobs=-1)]: Done  34 tasks      | elapsed:    2.6s\n",
      "[Parallel(n_jobs=-1)]: Done 321 tasks      | elapsed:    5.3s\n",
      "[Parallel(n_jobs=-1)]: Done 405 out of 420 | elapsed:    6.3s remaining:    0.2s\n",
      "[Parallel(n_jobs=-1)]: Done 420 out of 420 | elapsed:    6.5s finished\n"
     ]
    },
    {
     "data": {
      "text/plain": [
       "GridSearchCV(cv=5, error_score='raise-deprecating',\n",
       "       estimator=Pipeline(memory=None,\n",
       "     steps=[('scl', StandardScaler(copy=True, with_mean=True, with_std=True)), ('pca', PCA(copy=True, iterated_power='auto', n_components=None, random_state=42,\n",
       "  svd_solver='auto', tol=0.0, whiten=False)), ('clf', DecisionTreeClassifier(class_weight=None, criterion='gini', max_depth=None,\n",
       "            ma...        min_weight_fraction_leaf=0.0, presort=False, random_state=42,\n",
       "            splitter='best'))]),\n",
       "       fit_params=None, iid='warn', n_jobs=-1,\n",
       "       param_grid=[{'clf__class_weight': ['balanced', None], 'clf__criterion': ['gini', 'entropy'], 'clf__splitter': ['best'], 'clf__max_depth': [8, 9, 10, 11, 15, 20, 25], 'clf__min_samples_leaf': [2, 3, 5]}],\n",
       "       pre_dispatch='2*n_jobs', refit=True, return_train_score='warn',\n",
       "       scoring='accuracy', verbose=1)"
      ]
     },
     "execution_count": 14,
     "metadata": {},
     "output_type": "execute_result"
    }
   ],
   "source": [
    "clf = Pipeline([\n",
    "        ('scl', StandardScaler()),\n",
    "        ('pca', PCA(random_state=42)),\n",
    "        ('clf', DecisionTreeClassifier(random_state=42))])  \n",
    "\n",
    "criterion = ['gini', 'entropy']\n",
    "splitter = ['best']\n",
    "max_depth = [8, 9, 10, 11, 15, 20, 25]\n",
    "min_samples_leaf = [2, 3, 5]\n",
    "class_weight = ['balanced', None] \n",
    "\n",
    "param_grid =\\\n",
    "    [{ 'clf__class_weight': class_weight\n",
    "      ,'clf__criterion': criterion\n",
    "      ,'clf__splitter': splitter\n",
    "      ,'clf__max_depth': max_depth\n",
    "      ,'clf__min_samples_leaf': min_samples_leaf\n",
    "}]\n",
    "\n",
    "gs_dt = GridSearchCV(estimator=clf, param_grid=param_grid, scoring='accuracy', cv=5, verbose=1, n_jobs=-1)\n",
    "gs_dt.fit(X_train,y_train)"
   ]
  },
  {
   "cell_type": "code",
   "execution_count": 15,
   "metadata": {},
   "outputs": [
    {
     "name": "stdout",
     "output_type": "stream",
     "text": [
      "0.7595712098009189\n"
     ]
    }
   ],
   "source": [
    "print(gs_dt.best_score_)"
   ]
  },
  {
   "cell_type": "markdown",
   "metadata": {},
   "source": [
    "## KNN"
   ]
  },
  {
   "cell_type": "code",
   "execution_count": 16,
   "metadata": {},
   "outputs": [
    {
     "name": "stderr",
     "output_type": "stream",
     "text": [
      "/Users/tianqiluke/anaconda3/lib/python3.6/site-packages/sklearn/model_selection/_split.py:2053: FutureWarning: You should specify a value for 'cv' instead of relying on the default value. The default value will change from 3 to 5 in version 0.22.\n",
      "  warnings.warn(CV_WARNING, FutureWarning)\n"
     ]
    },
    {
     "data": {
      "text/plain": [
       "GridSearchCV(cv='warn', error_score='raise-deprecating',\n",
       "       estimator=Pipeline(memory=None,\n",
       "     steps=[('pca', PCA(copy=True, iterated_power='auto', n_components=None, random_state=None,\n",
       "  svd_solver='auto', tol=0.0, whiten=False)), ('clf', KNeighborsClassifier(algorithm='auto', leaf_size=30, metric='minkowski',\n",
       "           metric_params=None, n_jobs=None, n_neighbors=5, p=2,\n",
       "           weights='uniform'))]),\n",
       "       fit_params=None, iid='warn', n_jobs=None,\n",
       "       param_grid={'pca__n_components': range(1, 11), 'clf__n_neighbors': range(1, 10)},\n",
       "       pre_dispatch='2*n_jobs', refit=True, return_train_score='warn',\n",
       "       scoring='accuracy', verbose=0)"
      ]
     },
     "execution_count": 16,
     "metadata": {},
     "output_type": "execute_result"
    }
   ],
   "source": [
    "# knn with pca grid search\n",
    "pipe_knn_pca = Pipeline([('pca', PCA()), ('clf', KNeighborsClassifier())])\n",
    "grid_params_knn_pca = dict(pca__n_components=range(1, 11), clf__n_neighbors=range(1, 10))\n",
    "\n",
    "gs_knn_pca = GridSearchCV(estimator=pipe_knn_pca, param_grid=grid_params_knn_pca, scoring='accuracy')\n",
    "\n",
    "gs_knn_pca.fit(X_train, y_train)"
   ]
  },
  {
   "cell_type": "code",
   "execution_count": 17,
   "metadata": {},
   "outputs": [
    {
     "name": "stdout",
     "output_type": "stream",
     "text": [
      "0.7391526288922919\n"
     ]
    }
   ],
   "source": [
    "print(gs_knn_pca.best_score_)"
   ]
  },
  {
   "cell_type": "markdown",
   "metadata": {},
   "source": [
    "**Random Forest gives best result**"
   ]
  },
  {
   "cell_type": "code",
   "execution_count": 18,
   "metadata": {},
   "outputs": [
    {
     "name": "stdout",
     "output_type": "stream",
     "text": [
      "              precision    recall  f1-score   support\n",
      "\n",
      "           0       0.79      0.61      0.69       209\n",
      "           1       0.57      0.11      0.19        35\n",
      "           2       0.86      0.95      0.90       736\n",
      "\n",
      "   micro avg       0.85      0.85      0.85       980\n",
      "   macro avg       0.74      0.56      0.59       980\n",
      "weighted avg       0.84      0.85      0.83       980\n",
      "\n",
      "The RF model accuracy on Test data is 0.8469387755102041\n"
     ]
    }
   ],
   "source": [
    "#check its performance on test\n",
    "pred_rfc = rfc_gs.predict(X_test)\n",
    "print(classification_report(y_test, pred_rfc))\n",
    "print(\"The RF model accuracy on Test data is %s\" % accuracy_score(y_test, pred_rfc))"
   ]
  },
  {
   "cell_type": "code",
   "execution_count": 19,
   "metadata": {},
   "outputs": [],
   "source": [
    "# @hidden_cell\n",
    "# relabel back : 0 means good, 1 for low, 2 for medium for better visualization\n",
    "y_test_re = list(y_test)\n",
    "for i in range(len(y_test_re)):\n",
    "  if y_test_re[i] == 0:\n",
    "    y_test_re[i] = \"good\"\n",
    "  if y_test_re[i] == 1:\n",
    "    y_test_re[i] = \"low\"\n",
    "  if y_test_re[i] == 2:\n",
    "    y_test_re[i] = \"medium\"\n",
    "pred_rfc_re = list(pred_rfc)\n",
    "for i in range(len(pred_rfc_re)):\n",
    "  if pred_rfc_re[i] == 0:\n",
    "    pred_rfc_re[i] = \"good\"\n",
    "  if pred_rfc_re[i] == 1:\n",
    "    pred_rfc_re[i] = \"low\"\n",
    "  if pred_rfc_re[i] == 2:\n",
    "    pred_rfc_re[i] = \"medium\"\n",
    "y_actu = pd.Series(y_test_re, name='Actual')\n",
    "y_pred = pd.Series(pred_rfc_re, name='Predicted')\n",
    "rfc_confusion = pd.crosstab(y_actu, y_pred)"
   ]
  },
  {
   "cell_type": "code",
   "execution_count": 20,
   "metadata": {},
   "outputs": [
    {
     "data": {
      "text/html": [
       "<div>\n",
       "<style scoped>\n",
       "    .dataframe tbody tr th:only-of-type {\n",
       "        vertical-align: middle;\n",
       "    }\n",
       "\n",
       "    .dataframe tbody tr th {\n",
       "        vertical-align: top;\n",
       "    }\n",
       "\n",
       "    .dataframe thead th {\n",
       "        text-align: right;\n",
       "    }\n",
       "</style>\n",
       "<table border=\"1\" class=\"dataframe\">\n",
       "  <thead>\n",
       "    <tr style=\"text-align: right;\">\n",
       "      <th>Predicted</th>\n",
       "      <th>good</th>\n",
       "      <th>low</th>\n",
       "      <th>medium</th>\n",
       "    </tr>\n",
       "    <tr>\n",
       "      <th>Actual</th>\n",
       "      <th></th>\n",
       "      <th></th>\n",
       "      <th></th>\n",
       "    </tr>\n",
       "  </thead>\n",
       "  <tbody>\n",
       "    <tr>\n",
       "      <th>good</th>\n",
       "      <td>128</td>\n",
       "      <td>0</td>\n",
       "      <td>81</td>\n",
       "    </tr>\n",
       "    <tr>\n",
       "      <th>low</th>\n",
       "      <td>0</td>\n",
       "      <td>4</td>\n",
       "      <td>31</td>\n",
       "    </tr>\n",
       "    <tr>\n",
       "      <th>medium</th>\n",
       "      <td>35</td>\n",
       "      <td>3</td>\n",
       "      <td>698</td>\n",
       "    </tr>\n",
       "  </tbody>\n",
       "</table>\n",
       "</div>"
      ],
      "text/plain": [
       "Predicted  good  low  medium\n",
       "Actual                      \n",
       "good        128    0      81\n",
       "low           0    4      31\n",
       "medium       35    3     698"
      ]
     },
     "execution_count": 20,
     "metadata": {},
     "output_type": "execute_result"
    }
   ],
   "source": [
    "rfc_confusion"
   ]
  },
  {
   "cell_type": "markdown",
   "metadata": {},
   "source": [
    "# Resampling "
   ]
  },
  {
   "cell_type": "code",
   "execution_count": 21,
   "metadata": {},
   "outputs": [],
   "source": [
    "################### resample ##################\n",
    "# under sample \"2\" ； over sample 1,0\n",
    "smt = ClusterCentroids(ratio = {2:1500})\n",
    "X_sm,y_sm = smt.fit_sample(X_train,y_train)\n",
    "smt2 =SMOTE(ratio = {0:1500,1:1500})\n",
    "X_sm2,y_sm2 = smt2.fit_sample(X_sm,y_sm)"
   ]
  },
  {
   "cell_type": "markdown",
   "metadata": {},
   "source": [
    "## Random Forest"
   ]
  },
  {
   "cell_type": "code",
   "execution_count": 22,
   "metadata": {},
   "outputs": [
    {
     "data": {
      "text/plain": [
       "GridSearchCV(cv=5, error_score='raise-deprecating',\n",
       "       estimator=RandomForestClassifier(bootstrap=True, class_weight=None, criterion='gini',\n",
       "            max_depth=None, max_features='auto', max_leaf_nodes=None,\n",
       "            min_impurity_decrease=0.0, min_impurity_split=None,\n",
       "            min_samples_leaf=1, min_samples_split=2,\n",
       "            min_weight_fraction_leaf=0.0, n_estimators='warn', n_jobs=None,\n",
       "            oob_score=False, random_state=2018, verbose=0,\n",
       "            warm_start=False),\n",
       "       fit_params=None, iid='warn', n_jobs=None,\n",
       "       param_grid={'n_estimators': [50, 100, 150, 200, 250], 'min_samples_leaf': [1, 2, 4]},\n",
       "       pre_dispatch='2*n_jobs', refit=True, return_train_score='warn',\n",
       "       scoring='accuracy', verbose=0)"
      ]
     },
     "execution_count": 22,
     "metadata": {},
     "output_type": "execute_result"
    }
   ],
   "source": [
    "rfc_rs = RandomForestClassifier(random_state = 2018)\n",
    "param_dist = {\"n_estimators\": [50,100,150,200,250],\n",
    "              'min_samples_leaf': [1, 2, 4]\n",
    "             }\n",
    "rfc_gs_rs = GridSearchCV(rfc_rs, param_grid=param_dist, scoring='accuracy', cv=5)\n",
    "rfc_gs_rs.fit(X_sm2, y_sm2)"
   ]
  },
  {
   "cell_type": "code",
   "execution_count": 37,
   "metadata": {},
   "outputs": [
    {
     "data": {
      "text/plain": [
       "0.8593333333333333"
      ]
     },
     "execution_count": 37,
     "metadata": {},
     "output_type": "execute_result"
    }
   ],
   "source": [
    "rfc_gs_rs.best_score_"
   ]
  },
  {
   "cell_type": "markdown",
   "metadata": {},
   "source": [
    "## SVM_rs"
   ]
  },
  {
   "cell_type": "code",
   "execution_count": 27,
   "metadata": {},
   "outputs": [
    {
     "data": {
      "text/plain": [
       "GridSearchCV(cv=StratifiedKFold(n_splits=4, random_state=None, shuffle=False),\n",
       "       error_score='raise-deprecating',\n",
       "       estimator=Pipeline(memory=None,\n",
       "     steps=[('clf', SVC(C=1.0, cache_size=200, class_weight=None, coef0=0.0,\n",
       "  decision_function_shape='ovr', degree=3, gamma='auto_deprecated',\n",
       "  kernel='rbf', max_iter=-1, probability=False, random_state=None,\n",
       "  shrinking=True, tol=0.001, verbose=False))]),\n",
       "       fit_params=None, iid='warn', n_jobs=None,\n",
       "       param_grid={'clf__C': [0.1, 0.3, 1, 3, 10], 'clf__gamma': [0.1, 0.3, 1, 3, 10], 'clf__kernel': ['rbf', 'sigmoid']},\n",
       "       pre_dispatch='2*n_jobs', refit=True, return_train_score='warn',\n",
       "       scoring='accuracy', verbose=0)"
      ]
     },
     "execution_count": 27,
     "metadata": {},
     "output_type": "execute_result"
    }
   ],
   "source": [
    "# grid search after resample \n",
    "pipe_svm=Pipeline([('clf', svm.SVC())])   \n",
    "grid_params = dict(clf__C=[0.1, 0.3, 1, 3, 10],\n",
    "                   clf__gamma=[0.1, 0.3, 1, 3, 10],\n",
    "                   clf__kernel=['rbf','sigmoid'])  \n",
    "gs_svm_sm = GridSearchCV(estimator=pipe_svm,  \n",
    "                  param_grid=grid_params,\n",
    "                  scoring='accuracy',\n",
    "                  cv=skf)\n",
    "gs_svm_sm.fit(X_sm2, y_sm2)"
   ]
  },
  {
   "cell_type": "code",
   "execution_count": 28,
   "metadata": {},
   "outputs": [
    {
     "data": {
      "text/plain": [
       "0.822"
      ]
     },
     "execution_count": 28,
     "metadata": {},
     "output_type": "execute_result"
    }
   ],
   "source": [
    "gs_svm_sm.best_score_"
   ]
  },
  {
   "cell_type": "markdown",
   "metadata": {},
   "source": [
    "## DT_rs"
   ]
  },
  {
   "cell_type": "code",
   "execution_count": 29,
   "metadata": {},
   "outputs": [
    {
     "name": "stdout",
     "output_type": "stream",
     "text": [
      "Fitting 5 folds for each of 84 candidates, totalling 420 fits\n"
     ]
    },
    {
     "name": "stderr",
     "output_type": "stream",
     "text": [
      "[Parallel(n_jobs=-1)]: Using backend LokyBackend with 8 concurrent workers.\n",
      "[Parallel(n_jobs=-1)]: Done 160 tasks      | elapsed:    1.8s\n",
      "[Parallel(n_jobs=-1)]: Done 420 out of 420 | elapsed:    4.1s finished\n"
     ]
    },
    {
     "data": {
      "text/plain": [
       "GridSearchCV(cv=5, error_score='raise-deprecating',\n",
       "       estimator=Pipeline(memory=None,\n",
       "     steps=[('scl', StandardScaler(copy=True, with_mean=True, with_std=True)), ('pca', PCA(copy=True, iterated_power='auto', n_components=None, random_state=42,\n",
       "  svd_solver='auto', tol=0.0, whiten=False)), ('clf', DecisionTreeClassifier(class_weight=None, criterion='gini', max_depth=None,\n",
       "            ma...        min_weight_fraction_leaf=0.0, presort=False, random_state=42,\n",
       "            splitter='best'))]),\n",
       "       fit_params=None, iid='warn', n_jobs=-1,\n",
       "       param_grid=[{'clf__class_weight': ['balanced', None], 'clf__criterion': ['gini', 'entropy'], 'clf__splitter': ['best'], 'clf__max_depth': [8, 9, 10, 11, 15, 20, 25], 'clf__min_samples_leaf': [2, 3, 5]}],\n",
       "       pre_dispatch='2*n_jobs', refit=True, return_train_score='warn',\n",
       "       scoring='accuracy', verbose=1)"
      ]
     },
     "execution_count": 29,
     "metadata": {},
     "output_type": "execute_result"
    }
   ],
   "source": [
    "clf = Pipeline([\n",
    "        ('scl', StandardScaler()),\n",
    "        ('pca', PCA(random_state=42)),\n",
    "        ('clf', DecisionTreeClassifier(random_state=42))])  \n",
    "\n",
    "criterion = ['gini', 'entropy']\n",
    "splitter = ['best']\n",
    "max_depth = [8, 9, 10, 11, 15, 20, 25]\n",
    "min_samples_leaf = [2, 3, 5]\n",
    "class_weight = ['balanced', None] \n",
    "\n",
    "param_grid =\\\n",
    "    [{ 'clf__class_weight': class_weight\n",
    "      ,'clf__criterion': criterion\n",
    "      ,'clf__splitter': splitter\n",
    "      ,'clf__max_depth': max_depth\n",
    "      ,'clf__min_samples_leaf': min_samples_leaf\n",
    "}]\n",
    "\n",
    "gs_dt_rs = GridSearchCV(estimator=clf, param_grid=param_grid, scoring='accuracy', cv=5, verbose=1, n_jobs=-1)\n",
    "gs_dt_rs.fit(X_sm2,y_sm2)"
   ]
  },
  {
   "cell_type": "code",
   "execution_count": 30,
   "metadata": {},
   "outputs": [
    {
     "data": {
      "text/plain": [
       "0.7455555555555555"
      ]
     },
     "execution_count": 30,
     "metadata": {},
     "output_type": "execute_result"
    }
   ],
   "source": [
    "gs_dt_rs.best_score_"
   ]
  },
  {
   "cell_type": "markdown",
   "metadata": {},
   "source": [
    "## KNN_rs"
   ]
  },
  {
   "cell_type": "code",
   "execution_count": 31,
   "metadata": {},
   "outputs": [
    {
     "name": "stderr",
     "output_type": "stream",
     "text": [
      "/Users/tianqiluke/anaconda3/lib/python3.6/site-packages/sklearn/model_selection/_split.py:2053: FutureWarning: You should specify a value for 'cv' instead of relying on the default value. The default value will change from 3 to 5 in version 0.22.\n",
      "  warnings.warn(CV_WARNING, FutureWarning)\n"
     ]
    },
    {
     "data": {
      "text/plain": [
       "GridSearchCV(cv='warn', error_score='raise-deprecating',\n",
       "       estimator=Pipeline(memory=None,\n",
       "     steps=[('pca', PCA(copy=True, iterated_power='auto', n_components=None, random_state=None,\n",
       "  svd_solver='auto', tol=0.0, whiten=False)), ('clf', KNeighborsClassifier(algorithm='auto', leaf_size=30, metric='minkowski',\n",
       "           metric_params=None, n_jobs=None, n_neighbors=5, p=2,\n",
       "           weights='uniform'))]),\n",
       "       fit_params=None, iid='warn', n_jobs=None,\n",
       "       param_grid={'pca__n_components': range(1, 11), 'clf__n_neighbors': range(1, 10)},\n",
       "       pre_dispatch='2*n_jobs', refit=True, return_train_score='warn',\n",
       "       scoring='accuracy', verbose=0)"
      ]
     },
     "execution_count": 31,
     "metadata": {},
     "output_type": "execute_result"
    }
   ],
   "source": [
    "# knn with pca grid search\n",
    "pipe_knn_pca = Pipeline([('pca', PCA()), ('clf', KNeighborsClassifier())])\n",
    "grid_params_knn_pca = dict(pca__n_components=range(1, 11), clf__n_neighbors=range(1, 10))\n",
    "\n",
    "gs_knn_pca_rs = GridSearchCV(estimator=pipe_knn_pca, param_grid=grid_params_knn_pca, scoring='accuracy')\n",
    "\n",
    "gs_knn_pca_rs.fit(X_sm2, y_sm2)"
   ]
  },
  {
   "cell_type": "code",
   "execution_count": 32,
   "metadata": {},
   "outputs": [
    {
     "data": {
      "text/plain": [
       "0.7715555555555556"
      ]
     },
     "execution_count": 32,
     "metadata": {},
     "output_type": "execute_result"
    }
   ],
   "source": [
    "gs_knn_pca_rs.best_score_"
   ]
  },
  {
   "cell_type": "raw",
   "metadata": {},
   "source": [
    "**RF gives best result, but SVM also good as well, check both model under resample**"
   ]
  },
  {
   "cell_type": "code",
   "execution_count": 33,
   "metadata": {},
   "outputs": [
    {
     "name": "stdout",
     "output_type": "stream",
     "text": [
      "              precision    recall  f1-score   support\n",
      "\n",
      "           0       0.68      0.51      0.58       209\n",
      "           1       0.18      0.20      0.19        35\n",
      "           2       0.84      0.90      0.87       736\n",
      "\n",
      "   micro avg       0.79      0.79      0.79       980\n",
      "   macro avg       0.57      0.53      0.55       980\n",
      "weighted avg       0.78      0.79      0.78       980\n",
      "\n",
      "---------------------------------------------------------\n",
      "The accuracy score of SVM (resampled) is 0.7887755102040817\n"
     ]
    }
   ],
   "source": [
    "# model after resample\n",
    "svm_rs_predicted = gs_svm_sm.predict(X_test)\n",
    "print(classification_report(y_test, svm_rs_predicted))\n",
    "print(\"---------------------------------------------------------\")\n",
    "print(\"The accuracy score of SVM (resampled) on test is %s\" % accuracy_score(y_test, svm_rs_predicted))"
   ]
  },
  {
   "cell_type": "markdown",
   "metadata": {},
   "source": [
    "**confusion matrix**"
   ]
  },
  {
   "cell_type": "code",
   "execution_count": 34,
   "metadata": {},
   "outputs": [],
   "source": [
    "y_test_re = list(y_test)\n",
    "for i in range(len(y_test_re)):\n",
    "    if y_test_re[i] == 0:\n",
    "        y_test_re[i] = \"good\"\n",
    "    if y_test_re[i] == 1:\n",
    "        y_test_re[i] = \"low\"\n",
    "    if y_test_re[i] == 2:\n",
    "        y_test_re[i] = \"medium\"\n",
    "sm_pred_re = list(svm_rs_predicted)\n",
    "for i in range(len(svm_rs_predicted)):\n",
    "    if sm_pred_re[i] == 0:\n",
    "        sm_pred_re[i] = \"good\"\n",
    "    if sm_pred_re[i] == 1:\n",
    "        sm_pred_re[i] = \"low\"\n",
    "    if sm_pred_re[i] == 2:\n",
    "        sm_pred_re[i] = \"medium\"\n",
    "svm_rs_confusion = pd.crosstab(pd.Series(y_test_re,name='actual'), pd.Series(sm_pred_re,name='predicted'))"
   ]
  },
  {
   "cell_type": "code",
   "execution_count": 35,
   "metadata": {},
   "outputs": [
    {
     "data": {
      "text/html": [
       "<div>\n",
       "<style scoped>\n",
       "    .dataframe tbody tr th:only-of-type {\n",
       "        vertical-align: middle;\n",
       "    }\n",
       "\n",
       "    .dataframe tbody tr th {\n",
       "        vertical-align: top;\n",
       "    }\n",
       "\n",
       "    .dataframe thead th {\n",
       "        text-align: right;\n",
       "    }\n",
       "</style>\n",
       "<table border=\"1\" class=\"dataframe\">\n",
       "  <thead>\n",
       "    <tr style=\"text-align: right;\">\n",
       "      <th>predicted</th>\n",
       "      <th>good</th>\n",
       "      <th>low</th>\n",
       "      <th>medium</th>\n",
       "    </tr>\n",
       "    <tr>\n",
       "      <th>actual</th>\n",
       "      <th></th>\n",
       "      <th></th>\n",
       "      <th></th>\n",
       "    </tr>\n",
       "  </thead>\n",
       "  <tbody>\n",
       "    <tr>\n",
       "      <th>good</th>\n",
       "      <td>106</td>\n",
       "      <td>4</td>\n",
       "      <td>99</td>\n",
       "    </tr>\n",
       "    <tr>\n",
       "      <th>low</th>\n",
       "      <td>0</td>\n",
       "      <td>7</td>\n",
       "      <td>28</td>\n",
       "    </tr>\n",
       "    <tr>\n",
       "      <th>medium</th>\n",
       "      <td>49</td>\n",
       "      <td>27</td>\n",
       "      <td>660</td>\n",
       "    </tr>\n",
       "  </tbody>\n",
       "</table>\n",
       "</div>"
      ],
      "text/plain": [
       "predicted  good  low  medium\n",
       "actual                      \n",
       "good        106    4      99\n",
       "low           0    7      28\n",
       "medium       49   27     660"
      ]
     },
     "execution_count": 35,
     "metadata": {},
     "output_type": "execute_result"
    }
   ],
   "source": [
    "svm_rs_confusion"
   ]
  },
  {
   "cell_type": "markdown",
   "metadata": {},
   "source": [
    "## Random Forest"
   ]
  },
  {
   "cell_type": "code",
   "execution_count": 23,
   "metadata": {},
   "outputs": [],
   "source": [
    "pred_rfc_rs = rfc_gs_rs.predict(X_test)"
   ]
  },
  {
   "cell_type": "code",
   "execution_count": 24,
   "metadata": {},
   "outputs": [
    {
     "name": "stdout",
     "output_type": "stream",
     "text": [
      "              precision    recall  f1-score   support\n",
      "\n",
      "           0       0.53      0.83      0.65       209\n",
      "           1       0.19      0.31      0.24        35\n",
      "           2       0.90      0.73      0.81       736\n",
      "\n",
      "   micro avg       0.74      0.74      0.74       980\n",
      "   macro avg       0.54      0.63      0.57       980\n",
      "weighted avg       0.80      0.74      0.75       980\n",
      "\n",
      "The RF model accuracy is 0.7387755102040816\n"
     ]
    }
   ],
   "source": [
    "print(classification_report(y_test, pred_rfc_rs))\n",
    "print(\"The RF model(resampled) accuracy on test is %s\" % accuracy_score(y_test, pred_rfc_rs))"
   ]
  },
  {
   "cell_type": "code",
   "execution_count": 25,
   "metadata": {},
   "outputs": [],
   "source": [
    "# @hidden_cell\n",
    "# relabel back : 0 means good, 1 for low, 2 for medium for better visualization\n",
    "y_test_re = list(y_test)\n",
    "for i in range(len(y_test_re)):\n",
    "  if y_test_re[i] == 0:\n",
    "    y_test_re[i] = \"good\"\n",
    "  if y_test_re[i] == 1:\n",
    "    y_test_re[i] = \"low\"\n",
    "  if y_test_re[i] == 2:\n",
    "    y_test_re[i] = \"medium\"\n",
    "pred_rfc_re = list(pred_rfc_rs)\n",
    "for i in range(len(pred_rfc_re)):\n",
    "  if pred_rfc_re[i] == 0:\n",
    "    pred_rfc_re[i] = \"good\"\n",
    "  if pred_rfc_re[i] == 1:\n",
    "    pred_rfc_re[i] = \"low\"\n",
    "  if pred_rfc_re[i] == 2:\n",
    "    pred_rfc_re[i] = \"medium\"\n",
    "y_actu = pd.Series(y_test_re, name='Actual')\n",
    "y_pred = pd.Series(pred_rfc_re, name='Predicted')\n",
    "rfc_rsconfusion = pd.crosstab(y_actu, y_pred)"
   ]
  },
  {
   "cell_type": "code",
   "execution_count": 26,
   "metadata": {},
   "outputs": [
    {
     "data": {
      "text/html": [
       "<div>\n",
       "<style scoped>\n",
       "    .dataframe tbody tr th:only-of-type {\n",
       "        vertical-align: middle;\n",
       "    }\n",
       "\n",
       "    .dataframe tbody tr th {\n",
       "        vertical-align: top;\n",
       "    }\n",
       "\n",
       "    .dataframe thead th {\n",
       "        text-align: right;\n",
       "    }\n",
       "</style>\n",
       "<table border=\"1\" class=\"dataframe\">\n",
       "  <thead>\n",
       "    <tr style=\"text-align: right;\">\n",
       "      <th>Predicted</th>\n",
       "      <th>good</th>\n",
       "      <th>low</th>\n",
       "      <th>medium</th>\n",
       "    </tr>\n",
       "    <tr>\n",
       "      <th>Actual</th>\n",
       "      <th></th>\n",
       "      <th></th>\n",
       "      <th></th>\n",
       "    </tr>\n",
       "  </thead>\n",
       "  <tbody>\n",
       "    <tr>\n",
       "      <th>good</th>\n",
       "      <td>174</td>\n",
       "      <td>0</td>\n",
       "      <td>35</td>\n",
       "    </tr>\n",
       "    <tr>\n",
       "      <th>low</th>\n",
       "      <td>2</td>\n",
       "      <td>11</td>\n",
       "      <td>22</td>\n",
       "    </tr>\n",
       "    <tr>\n",
       "      <th>medium</th>\n",
       "      <td>151</td>\n",
       "      <td>46</td>\n",
       "      <td>539</td>\n",
       "    </tr>\n",
       "  </tbody>\n",
       "</table>\n",
       "</div>"
      ],
      "text/plain": [
       "Predicted  good  low  medium\n",
       "Actual                      \n",
       "good        174    0      35\n",
       "low           2   11      22\n",
       "medium      151   46     539"
      ]
     },
     "execution_count": 26,
     "metadata": {},
     "output_type": "execute_result"
    }
   ],
   "source": [
    "rfc_rs_confusion"
   ]
  },
  {
   "cell_type": "markdown",
   "metadata": {},
   "source": [
    "svm(resampled) has higher accuracy on test compare to random forest(78 to 73), but RF(resampled) performs better on good and low. it's trade off to use which model on future, depends on business purpose."
   ]
  }
 ],
 "metadata": {
  "kernelspec": {
   "display_name": "Python 3",
   "language": "python",
   "name": "python3"
  },
  "language_info": {
   "codemirror_mode": {
    "name": "ipython",
    "version": 3
   },
   "file_extension": ".py",
   "mimetype": "text/x-python",
   "name": "python",
   "nbconvert_exporter": "python",
   "pygments_lexer": "ipython3",
   "version": "3.6.4"
  }
 },
 "nbformat": 4,
 "nbformat_minor": 2
}
