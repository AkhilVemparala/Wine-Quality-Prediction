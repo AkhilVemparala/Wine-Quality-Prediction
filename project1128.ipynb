{
 "cells": [
  {
   "cell_type": "markdown",
   "metadata": {
    "colab_type": "text",
    "id": "cnKpJyQumNiH"
   },
   "source": [
    "# Worklist\n",
    "## EDA: \n",
    "correlation, each feature count plot, label plot, outliers? label transformation? 1-9 to low medium high\n",
    "split:4898 -> \n",
    "## Feature\n",
    "keep\n",
    "\n",
    "## Modeling\n",
    "\n",
    "** SVM **\n",
    "\n",
    "** Random Forest **\n",
    "\n",
    "** Naive Bayes **\n",
    "\n",
    "** DT **\n",
    "\n",
    "** KNN=1 **\n",
    "\n",
    "## Evaluation\n",
    "\n",
    "Confusion Matrix\n"
   ]
  },
  {
   "cell_type": "markdown",
   "metadata": {
    "colab_type": "text",
    "id": "rp9F8zEBq_Py"
   },
   "source": [
    "# Combine Each One's Work Here"
   ]
  },
  {
   "cell_type": "code",
   "execution_count": null,
   "metadata": {},
   "outputs": [],
   "source": [
    "import os\n",
    "import pandas as pd\n",
    "import seaborn as sns\n",
    "import matplotlib.pyplot as plt\n",
    "%matplotlib inline\n",
    "from sklearn.model_selection import train_test_split\n",
    "from sklearn.metrics import accuracy_score\n",
    "from sklearn import svm\n",
    "from sklearn.model_selection import cross_val_score\n",
    "from sklearn.pipeline import Pipeline\n",
    "from sklearn.model_selection import GridSearchCV\n",
    "from sklearn.model_selection import StratifiedKFold\n",
    "import collections\n",
    "from sklearn.preprocessing import LabelEncoder\n",
    "import imblearn\n",
    "from collections import Counter\n",
    "from imblearn.combine import SMOTETomek\n",
    "from imblearn.over_sampling import SMOTE\n",
    "from imblearn.under_sampling import TomekLinks,ClusterCentroids\n",
    "from sklearn.metrics import confusion_matrix, classification_report"
   ]
  },
  {
   "cell_type": "code",
   "execution_count": null,
   "metadata": {
    "colab": {
     "base_uri": "https://localhost:8080/",
     "height": 34
    },
    "colab_type": "code",
    "id": "3OO5WRYkR9aw",
    "outputId": "1ff97b82-4799-4fcf-a6a6-a3a361a76cb5"
   },
   "outputs": [],
   "source": [
    "# wine.shape\n",
    "# wine.head()\n",
    "# wine.columns\n",
    "# wine.isnull().sum()\n",
    "# # no missing values\n",
    "# wine.dtypes\n",
    "# # all features are quantitive"
   ]
  },
  {
   "cell_type": "markdown",
   "metadata": {},
   "source": [
    "# DATA"
   ]
  },
  {
   "cell_type": "code",
   "execution_count": null,
   "metadata": {},
   "outputs": [],
   "source": [
    "# This is white wine\n",
    "wine = pd.read_csv('http://archive.ics.uci.edu/ml/machine-learning-databases/wine-quality/winequality-white.csv',delimiter=\";\")"
   ]
  },
  {
   "cell_type": "code",
   "execution_count": null,
   "metadata": {},
   "outputs": [],
   "source": [
    "quality = wine[\"quality\"].values\n",
    "category = []\n",
    "for num in quality:\n",
    "    if num<5:\n",
    "        category.append(\"Low\")\n",
    "    elif num>6:\n",
    "        category.append(\"High\")\n",
    "    else:\n",
    "        category.append(\"Midium\")\n",
    "category = pd.DataFrame(data=category, columns=[\"category\"])\n",
    "data = pd.concat([wine,category],axis=1)\n",
    "data.drop(columns=\"quality\",axis=1,inplace=True)\n",
    "X = data.iloc[:,:-1].values\n",
    "y = data.iloc[:,-1].values"
   ]
  },
  {
   "cell_type": "code",
   "execution_count": null,
   "metadata": {},
   "outputs": [],
   "source": [
    "collections.Counter(y)"
   ]
  },
  {
   "cell_type": "code",
   "execution_count": null,
   "metadata": {},
   "outputs": [],
   "source": [
    "labelencoder_y = LabelEncoder()\n",
    "y = labelencoder_y.fit_transform(y)"
   ]
  },
  {
   "cell_type": "code",
   "execution_count": null,
   "metadata": {},
   "outputs": [],
   "source": [
    "X_train, X_test, y_train, y_test = train_test_split(X, y, test_size = 0.2,random_state=2018)"
   ]
  },
  {
   "cell_type": "code",
   "execution_count": null,
   "metadata": {},
   "outputs": [],
   "source": [
    "collections.Counter(y)"
   ]
  },
  {
   "cell_type": "code",
   "execution_count": null,
   "metadata": {},
   "outputs": [],
   "source": [
    "################### resample ##################\n",
    "# under sample \"2\" ； over sample 1,0\n",
    "smt = ClusterCentroids(ratio = {2:1500})\n",
    "X_sm,y_sm = smt.fit_sample(X_train,y_train)\n",
    "smt2 =SMOTE(ratio = {0:1000,1:1500})\n",
    "X_sm2,y_sm2 = smt2.fit_sample(X_sm,y_sm)\n",
    "Counter(y_sm2)"
   ]
  },
  {
   "cell_type": "markdown",
   "metadata": {
    "colab_type": "text",
    "id": "D8oOn56eoMp9"
   },
   "source": [
    "## **Reagan**"
   ]
  },
  {
   "cell_type": "markdown",
   "metadata": {},
   "source": [
    "grid search  --> \"best\" parameters  \n",
    "model ori data with \"best\" params  \n",
    "model resampled data with \"best\" params  \n",
    "visualize two confusion matrices"
   ]
  },
  {
   "cell_type": "code",
   "execution_count": null,
   "metadata": {
    "colab": {
     "base_uri": "https://localhost:8080/",
     "height": 34
    },
    "colab_type": "code",
    "id": "aK_InDJOXWR8",
    "outputId": "c656b571-e9ff-4a38-bfe7-2686393a237b"
   },
   "outputs": [],
   "source": [
    "# strtifiedKFold\n",
    "skf = StratifiedKFold(n_splits=4)\n",
    "for training, validation in skf.split(X_train, y_train):\n",
    "    print(\"%s %s\" % (len(training),len(validation)))"
   ]
  },
  {
   "cell_type": "markdown",
   "metadata": {
    "colab": {
     "base_uri": "https://localhost:8080/",
     "height": 153
    },
    "colab_type": "code",
    "id": "ff5P-ofbY5tf",
    "outputId": "0bfef403-38ff-4a24-8fd2-dbdd97923bd0"
   },
   "source": [
    "kernel=precomputed : X should be a square kernel matrix  \n",
    "kernel=poly: poly requires another para: degree.  \n",
    "kernel=linear: work but pretty slow"
   ]
  },
  {
   "cell_type": "code",
   "execution_count": null,
   "metadata": {
    "colab": {
     "base_uri": "https://localhost:8080/",
     "height": 34
    },
    "colab_type": "code",
    "id": "_HYSM691aeem",
    "outputId": "c88399f1-652a-4617-ca99-ff3386014f3a"
   },
   "outputs": [],
   "source": [
    "# grid search\n",
    "pipe_svm=Pipeline([('clf', svm.SVC())])   \n",
    "grid_params = dict(clf__C=[0.1, 0.3, 1, 3, 10],\n",
    "                   clf__gamma=[0.1, 0.3, 1, 3, 10],\n",
    "                   clf__kernel=['rbf','sigmoid'])  \n",
    "gs = GridSearchCV(estimator=pipe_svm,  \n",
    "                  param_grid=grid_params,\n",
    "                  scoring='accuracy',\n",
    "                  cv=skf)\n",
    "gs.fit(X_train, y_train)"
   ]
  },
  {
   "cell_type": "code",
   "execution_count": null,
   "metadata": {
    "colab": {},
    "colab_type": "code",
    "id": "HC42UOkeczvU"
   },
   "outputs": [],
   "source": [
    "gs.best_params_"
   ]
  },
  {
   "cell_type": "code",
   "execution_count": null,
   "metadata": {
    "colab": {
     "base_uri": "https://localhost:8080/",
     "height": 34
    },
    "colab_type": "code",
    "id": "oHpSszoUbMaS",
    "outputId": "f756f30d-388d-4d92-80bc-b17d048eaf52"
   },
   "outputs": [],
   "source": [
    "# model before resample\n",
    "opt=svm.SVC(kernel='rbf', C=1, gamma=3)   # the best model\n",
    "opt.fit(X_train,y_train)  # fit the model\n",
    "predicted = opt.predict(X_test)\n",
    "print(classification_report(y_test, predicted))\n",
    "print(\"---------------------------------------------------------\")\n",
    "print(\"The accuracy score of SVM is %s\" % accuracy_score(y_test, predicted))"
   ]
  },
  {
   "cell_type": "code",
   "execution_count": null,
   "metadata": {},
   "outputs": [],
   "source": [
    "# model after resample\n",
    "opt=svm.SVC(kernel='rbf', C=1, gamma=3)   # the best model\n",
    "opt.fit(X_sm2,y_sm2)  # fit the model\n",
    "sm_predicted = opt.predict(X_test)\n",
    "print(classification_report(y_test, predicted))\n",
    "print(\"---------------------------------------------------------\")\n",
    "print(\"The accuracy score of SVM (resampled) is %s\" % accuracy_score(y_test, predicted))"
   ]
  },
  {
   "cell_type": "code",
   "execution_count": null,
   "metadata": {},
   "outputs": [],
   "source": [
    "# relabel back : 0 means good, 1 for low, 2 for medium \n",
    "# better visualization for confusion matrix\n",
    "y_test_re = list(y_test)\n",
    "for i in range(len(y_test_re)):\n",
    "    if y_test_re[i] == 0:\n",
    "        y_test_re[i] = \"good\"\n",
    "    if y_test_re[i] == 1:\n",
    "        y_test_re[i] = \"low\"\n",
    "    if y_test_re[i] == 2:\n",
    "        y_test_re[i] = \"medium\"\n",
    "pred_re = list(predicted)\n",
    "for i in range(len(predicted)):\n",
    "    if pred_re[i] == 0:\n",
    "        pred_re[i] = \"good\"\n",
    "    if pred_re[i] == 1:\n",
    "        pred_re[i] = \"low\"\n",
    "    if pred_re[i] == 2:\n",
    "        pred_re[i] = \"medium\"\n",
    "sm_pred_re = list(sm_predicted)\n",
    "for i in range(len(sm_predicted)):\n",
    "    if sm_pred_re[i] == 0:\n",
    "        sm_pred_re[i] = \"good\"\n",
    "    if sm_pred_re[i] == 1:\n",
    "        sm_pred_re[i] = \"low\"\n",
    "    if sm_pred_re[i] == 2:\n",
    "        sm_pred_re[i] = \"medium\"\n",
    "svm_confusion = pd.crosstab(pd.Series(y_test_re,name='actual'), pd.Series(pred_re,name='predicted'))\n",
    "sm_svm_confusion = pd.crosstab(pd.Series(y_test_re,name='actual'), pd.Series(sm_pred_re,name='predicted'))"
   ]
  },
  {
   "cell_type": "code",
   "execution_count": null,
   "metadata": {},
   "outputs": [],
   "source": [
    "svm_confusion"
   ]
  },
  {
   "cell_type": "code",
   "execution_count": null,
   "metadata": {},
   "outputs": [],
   "source": [
    "sm_svm_confusion"
   ]
  },
  {
   "cell_type": "markdown",
   "metadata": {
    "colab_type": "text",
    "id": "13ftomayos3b"
   },
   "source": [
    "##  **Luke**"
   ]
  },
  {
   "cell_type": "code",
   "execution_count": null,
   "metadata": {
    "colab": {},
    "colab_type": "code",
    "id": "5M1gpGuRovlX"
   },
   "outputs": [],
   "source": [
    "import pandas as pd\n",
    "import seaborn as sns\n",
    "import numpy as np\n",
    "import matplotlib.pyplot as plt\n",
    "from sklearn.ensemble import RandomForestClassifier\n",
    "from sklearn.svm import SVC\n",
    "from sklearn.metrics import confusion_matrix, classification_report\n",
    "from sklearn.preprocessing import StandardScaler, LabelEncoder\n",
    "from sklearn.model_selection import train_test_split, GridSearchCV, cross_val_score\n",
    "from sklearn.model_selection import train_test_split\n",
    "from sklearn.metrics import accuracy_score\n",
    "%matplotlib inline\n",
    "# remove warnings\n",
    "import warnings\n",
    "warnings.simplefilter(\"ignore\")"
   ]
  },
  {
   "cell_type": "markdown",
   "metadata": {
    "colab_type": "text",
    "id": "gkf_gP6XrWDD"
   },
   "source": [
    "### Import Data "
   ]
  },
  {
   "cell_type": "code",
   "execution_count": null,
   "metadata": {
    "colab": {
     "base_uri": "https://localhost:8080/",
     "height": 34
    },
    "colab_type": "code",
    "id": "MdWJKlKspGLV",
    "outputId": "b17af096-afc3-45f0-ddd3-b68655be063d"
   },
   "outputs": [],
   "source": [
    "# This is white wine\n",
    "wine = pd.read_csv('http://archive.ics.uci.edu/ml/machine-learning-databases/wine-quality/winequality-white.csv',delimiter=\";\")\n",
    "# This is red wine\n",
    "datared = pd.read_csv('http://archive.ics.uci.edu/ml/machine-learning-databases/wine-quality/winequality-red.csv',delimiter=\";\")\n",
    "print(\"Done!\")"
   ]
  },
  {
   "cell_type": "markdown",
   "metadata": {
    "colab_type": "text",
    "id": "rDW5OWN_9JzX"
   },
   "source": [
    "We might only focus on ** white wine** for this project."
   ]
  },
  {
   "cell_type": "markdown",
   "metadata": {
    "colab_type": "text",
    "id": "AxBUbUaarPDD"
   },
   "source": [
    "### Some basic EDA "
   ]
  },
  {
   "cell_type": "code",
   "execution_count": null,
   "metadata": {
    "colab": {
     "base_uri": "https://localhost:8080/",
     "height": 85
    },
    "colab_type": "code",
    "id": "VRsbs5I_rrrM",
    "outputId": "4f91e601-3669-482c-b774-c124a25732d9"
   },
   "outputs": [],
   "source": [
    "wine.columns"
   ]
  },
  {
   "cell_type": "markdown",
   "metadata": {
    "colab_type": "text",
    "id": "6vqEJ3k-trMV"
   },
   "source": [
    "#### Bar Plot of Response "
   ]
  },
  {
   "cell_type": "code",
   "execution_count": null,
   "metadata": {
    "colab": {
     "base_uri": "https://localhost:8080/",
     "height": 524
    },
    "colab_type": "code",
    "id": "JDROSWLMtHvi",
    "outputId": "ca67b55b-9a32-4317-bffb-b8f18ff13411"
   },
   "outputs": [],
   "source": [
    "plt.figure(figsize=(10,6))\n",
    "sns.countplot(wine[\"quality\"],palette=\"muted\")\n",
    "wine[\"quality\"].value_counts()"
   ]
  },
  {
   "cell_type": "markdown",
   "metadata": {
    "colab_type": "text",
    "id": "k1c25XHJtLa1"
   },
   "source": [
    "The distribution is fairly normal, but small freq for high and low score"
   ]
  },
  {
   "cell_type": "markdown",
   "metadata": {
    "colab_type": "text",
    "id": "Kxu82dLEvxMT"
   },
   "source": [
    "#### Data Transformation \n",
    "\n",
    "We want to transfer the score(num) to low-medium-high quality level(categorical) by: \n",
    "\n",
    "3,4 -> low\n",
    "\n",
    "56 -> medium\n",
    "\n",
    "789 -> high"
   ]
  },
  {
   "cell_type": "code",
   "execution_count": null,
   "metadata": {
    "colab": {
     "base_uri": "https://localhost:8080/",
     "height": 34
    },
    "colab_type": "code",
    "id": "oVEpRIm4w0Q2",
    "outputId": "620782d6-8da5-4f46-c3bd-0116b77f762a"
   },
   "outputs": [],
   "source": [
    "quality = wine[\"quality\"].values\n",
    "category = []\n",
    "for num in quality:\n",
    "    if num<5:\n",
    "        category.append(\"Low\")\n",
    "    elif num>6:\n",
    "        category.append(\"High\")\n",
    "    else:\n",
    "        category.append(\"Midium\")\n",
    "print(\"Done!\")"
   ]
  },
  {
   "cell_type": "code",
   "execution_count": null,
   "metadata": {
    "colab": {
     "base_uri": "https://localhost:8080/",
     "height": 34
    },
    "colab_type": "code",
    "id": "A5Lz9ZOXxBf7",
    "outputId": "81a92335-906f-48ea-b530-5527b5ed62c0"
   },
   "outputs": [],
   "source": [
    "[(i,category.count(i)) for i in set(category)]"
   ]
  },
  {
   "cell_type": "code",
   "execution_count": null,
   "metadata": {
    "colab": {
     "base_uri": "https://localhost:8080/",
     "height": 391
    },
    "colab_type": "code",
    "id": "9iu4PYI2yaFz",
    "outputId": "00f4e56e-d19a-4bdc-8217-845afa4feb76"
   },
   "outputs": [],
   "source": [
    "plt.figure(figsize=(10,6))\n",
    "sns.countplot(category,palette=\"muted\")"
   ]
  },
  {
   "cell_type": "markdown",
   "metadata": {
    "colab_type": "text",
    "id": "pyl3ApTpzLN9"
   },
   "source": [
    "#### Create our new data frame  "
   ]
  },
  {
   "cell_type": "code",
   "execution_count": null,
   "metadata": {
    "colab": {},
    "colab_type": "code",
    "id": "M1TA1W8szQ7v"
   },
   "outputs": [],
   "source": [
    "category = pd.DataFrame(data=category, columns=[\"category\"])\n",
    "# Cby concatenationoncatenation\n",
    "data = pd.concat([wine,category],axis=1)\n",
    "# Drop the score\n",
    "data.drop(columns=\"quality\",axis=1,inplace=True)"
   ]
  },
  {
   "cell_type": "code",
   "execution_count": null,
   "metadata": {
    "colab": {
     "base_uri": "https://localhost:8080/",
     "height": 159
    },
    "colab_type": "code",
    "id": "rA9ARt-x0Yeg",
    "outputId": "ee09cd02-2d04-4a35-c2ac-18e518065982"
   },
   "outputs": [],
   "source": [
    "data.head(3)"
   ]
  },
  {
   "cell_type": "markdown",
   "metadata": {
    "colab_type": "text",
    "id": "YQWF8y8EuK2q"
   },
   "source": [
    "#### Cor Mat to check features "
   ]
  },
  {
   "cell_type": "code",
   "execution_count": null,
   "metadata": {
    "colab": {
     "base_uri": "https://localhost:8080/",
     "height": 462
    },
    "colab_type": "code",
    "id": "BhL80uU9uU8H",
    "outputId": "f563734a-ebdf-4a77-f1bb-7fa0db4c75a4"
   },
   "outputs": [],
   "source": [
    "plt.figure(figsize=(12,6))\n",
    "sns.heatmap(wine.corr(),annot=True)"
   ]
  },
  {
   "cell_type": "markdown",
   "metadata": {
    "colab_type": "text",
    "id": "R22jcdmFuZTD"
   },
   "source": [
    "Lokks ok to me, only Density~Residual Sugar shows a large correlation (0.84). We might remove one of them for modeling if necessary  in the future"
   ]
  },
  {
   "cell_type": "markdown",
   "metadata": {
    "colab_type": "text",
    "id": "XIdd8NR1u61Q"
   },
   "source": [
    "5 features: citric acid and sugar, free sulfur dioxide, ph, sulphates shows a low correlation."
   ]
  },
  {
   "cell_type": "markdown",
   "metadata": {
    "colab_type": "text",
    "id": "DwI0rw5g1gMU"
   },
   "source": [
    "### Set up model matrix"
   ]
  },
  {
   "cell_type": "code",
   "execution_count": null,
   "metadata": {
    "colab": {},
    "colab_type": "code",
    "id": "M2eNxBF72NP1"
   },
   "outputs": [],
   "source": [
    "X = data.iloc[:,:-1].values\n",
    "y = data.iloc[:,-1].values"
   ]
  },
  {
   "cell_type": "code",
   "execution_count": null,
   "metadata": {
    "colab": {
     "base_uri": "https://localhost:8080/",
     "height": 34
    },
    "colab_type": "code",
    "id": "byN0-v242UR8",
    "outputId": "38a92b87-5416-401b-f646-80393a9ff010"
   },
   "outputs": [],
   "source": [
    "X.shape,y.shape"
   ]
  },
  {
   "cell_type": "code",
   "execution_count": null,
   "metadata": {
    "colab": {},
    "colab_type": "code",
    "id": "EFdQsQmH2Uyw"
   },
   "outputs": [],
   "source": [
    "# may need pca for better resampling result\n",
    "from sklearn.decomposition import PCA\n",
    "from sklearn.preprocessing import LabelEncoder\n",
    "pca = PCA(n_components=11)\n",
    "X = pca.fit_transform(X)\n",
    "labelencoder_y = LabelEncoder()\n",
    "y = labelencoder_y.fit_transform(y)"
   ]
  },
  {
   "cell_type": "code",
   "execution_count": null,
   "metadata": {
    "colab": {
     "base_uri": "https://localhost:8080/",
     "height": 34
    },
    "colab_type": "code",
    "id": "1VqZH3752YxZ",
    "outputId": "45fd474e-0fc6-4f8e-9b3d-76dafbd82d22"
   },
   "outputs": [],
   "source": [
    "import collections\n",
    "collections.Counter(y)"
   ]
  },
  {
   "cell_type": "markdown",
   "metadata": {
    "colab_type": "text",
    "id": "ZRypg_1G_2Cj"
   },
   "source": [
    "0 means good, 1 for low, 2 for medium"
   ]
  },
  {
   "cell_type": "markdown",
   "metadata": {
    "colab_type": "text",
    "id": "w0GiP6h-2hGw"
   },
   "source": [
    "### Train & Test split"
   ]
  },
  {
   "cell_type": "code",
   "execution_count": null,
   "metadata": {
    "colab": {},
    "colab_type": "code",
    "id": "Ca_Ev2jp2vXN"
   },
   "outputs": [],
   "source": [
    "from sklearn.model_selection import train_test_split\n",
    "X_train, X_test, y_train, y_test = train_test_split(X, y, test_size = 0.2,random_state=2018)"
   ]
  },
  {
   "cell_type": "code",
   "execution_count": null,
   "metadata": {
    "colab": {},
    "colab_type": "code",
    "id": "ZfiuR2Lf-nk6"
   },
   "outputs": [],
   "source": [
    "from sklearn.preprocessing import StandardScaler\n",
    "sc_X = StandardScaler()\n",
    "X_train = sc_X.fit_transform(X_train)\n",
    "X_test = sc_X.transform(X_test)"
   ]
  },
  {
   "cell_type": "code",
   "execution_count": null,
   "metadata": {
    "colab": {
     "base_uri": "https://localhost:8080/",
     "height": 34
    },
    "colab_type": "code",
    "id": "i5KWH4Vr6Pm_",
    "outputId": "27ce9887-2aa7-4a7a-f7da-b3e488a496d5"
   },
   "outputs": [],
   "source": [
    "X_train.shape,X_test.shape"
   ]
  },
  {
   "cell_type": "code",
   "execution_count": null,
   "metadata": {},
   "outputs": [],
   "source": [
    "X_train.shape,y_train.shape"
   ]
  },
  {
   "cell_type": "markdown",
   "metadata": {
    "colab_type": "text",
    "id": "YneSEQaa6SRG"
   },
   "source": [
    "We have 3918 training data, 980 test. Will use test for final model accuracy comparision. Only use training set to train our model."
   ]
  },
  {
   "cell_type": "markdown",
   "metadata": {
    "colab_type": "text",
    "id": "O3Rxu7c59Xjj"
   },
   "source": [
    "#### 1.Random Forest"
   ]
  },
  {
   "cell_type": "markdown",
   "metadata": {},
   "source": [
    "**the following is rfc without resampling**"
   ]
  },
  {
   "cell_type": "code",
   "execution_count": null,
   "metadata": {},
   "outputs": [],
   "source": [
    "X_train.shape,y_train.shape"
   ]
  },
  {
   "cell_type": "code",
   "execution_count": null,
   "metadata": {
    "colab": {
     "base_uri": "https://localhost:8080/",
     "height": 170
    },
    "colab_type": "code",
    "id": "9i-pssah91J7",
    "outputId": "2369ad38-9696-4c6c-e09c-2d1364ef70c5"
   },
   "outputs": [],
   "source": [
    "rfc = RandomForestClassifier(n_estimators=250,random_state = 2018)\n",
    "# might need CV for parameter tuning here\n",
    "rfc.fit(X_train, y_train)\n",
    "pred_rfc = rfc.predict(X_test)\n",
    "print(classification_report(y_test, pred_rfc))\n",
    "print(\"The RF model accuracy is %s\" % accuracy_score(y_test, pred_rfc))"
   ]
  },
  {
   "cell_type": "markdown",
   "metadata": {
    "colab_type": "text",
    "id": "LtQHNjwY_Pq_"
   },
   "source": [
    "**confusion matrix**"
   ]
  },
  {
   "cell_type": "code",
   "execution_count": null,
   "metadata": {
    "colab": {},
    "colab_type": "code",
    "id": "mI5T6MW5MRWe"
   },
   "outputs": [],
   "source": [
    "# relabel back : 0 means good, 1 for low, 2 for medium for better visualization\n",
    "y_test_re = list(y_test)\n",
    "for i in range(len(y_test_re)):\n",
    "  if y_test_re[i] == 0:\n",
    "    y_test_re[i] = \"good\"\n",
    "  if y_test_re[i] == 1:\n",
    "    y_test_re[i] = \"low\"\n",
    "  if y_test_re[i] == 2:\n",
    "    y_test_re[i] = \"medium\"\n",
    "pred_rfc_re = list(pred_rfc)\n",
    "for i in range(len(pred_rfc_re)):\n",
    "  if pred_rfc_re[i] == 0:\n",
    "    pred_rfc_re[i] = \"good\"\n",
    "  if pred_rfc_re[i] == 1:\n",
    "    pred_rfc_re[i] = \"low\"\n",
    "  if pred_rfc_re[i] == 2:\n",
    "    pred_rfc_re[i] = \"medium\""
   ]
  },
  {
   "cell_type": "code",
   "execution_count": null,
   "metadata": {
    "colab": {},
    "colab_type": "code",
    "id": "d3evXvcAGuyi"
   },
   "outputs": [],
   "source": [
    "y_actu = pd.Series(y_test_re, name='Actual')\n",
    "y_pred = pd.Series(pred_rfc_re, name='Predicted')\n",
    "rfc_confusion = pd.crosstab(y_actu, y_pred)"
   ]
  },
  {
   "cell_type": "code",
   "execution_count": null,
   "metadata": {
    "colab": {
     "base_uri": "https://localhost:8080/",
     "height": 173
    },
    "colab_type": "code",
    "id": "xNm0jb-JHx-3",
    "outputId": "73239018-34b2-488e-c485-0e4edd42afe7"
   },
   "outputs": [],
   "source": [
    "rfc_confusion"
   ]
  },
  {
   "cell_type": "markdown",
   "metadata": {},
   "source": [
    "#### resampling here"
   ]
  },
  {
   "cell_type": "code",
   "execution_count": null,
   "metadata": {},
   "outputs": [],
   "source": [
    "import imblearn\n",
    "from collections import Counter\n",
    "from imblearn.combine import SMOTETomek\n",
    "from imblearn.over_sampling import SMOTE\n",
    "from imblearn.under_sampling import TomekLinks,ClusterCentroids"
   ]
  },
  {
   "cell_type": "code",
   "execution_count": null,
   "metadata": {
    "scrolled": true
   },
   "outputs": [],
   "source": [
    "# under sample \"2\"\n",
    "smt = ClusterCentroids(ratio = {2:1200})\n",
    "X_sm,y_sm = smt.fit_sample(X_train,y_train)\n",
    "Counter(y_sm)"
   ]
  },
  {
   "cell_type": "code",
   "execution_count": null,
   "metadata": {},
   "outputs": [],
   "source": [
    "# over sample 1,0\n",
    "smt2 =SMOTE(ratio = {0:1200,1:1200})\n",
    "X_sm2,y_sm2 = smt2.fit_sample(X_sm,y_sm)\n",
    "Counter(y_sm2)"
   ]
  },
  {
   "cell_type": "code",
   "execution_count": null,
   "metadata": {},
   "outputs": [],
   "source": [
    "X_sm2.shape,y_sm2.shape"
   ]
  },
  {
   "cell_type": "code",
   "execution_count": null,
   "metadata": {},
   "outputs": [],
   "source": [
    "y_sm.dtype\n",
    "####!!!!! need to encoding again, fuck"
   ]
  },
  {
   "cell_type": "code",
   "execution_count": null,
   "metadata": {},
   "outputs": [],
   "source": [
    "from sklearn.preprocessing import LabelEncoder\n",
    "labelencoder_y2 = LabelEncoder()\n",
    "y_train_sm2 = labelencoder_y2.fit_transform(y_sm2)"
   ]
  },
  {
   "cell_type": "code",
   "execution_count": null,
   "metadata": {},
   "outputs": [],
   "source": [
    "from sklearn.preprocessing import StandardScaler\n",
    "sc_X2 = StandardScaler()\n",
    "X_sm2 = sc_X2.fit_transform(X_sm2)\n",
    "X_test = sc_X2.transform(X_test)"
   ]
  },
  {
   "cell_type": "code",
   "execution_count": null,
   "metadata": {},
   "outputs": [],
   "source": [
    "rfc = RandomForestClassifier(n_estimators=150,random_state = 2018)\n",
    "# might need CV for parameter tuning here\n",
    "rfc.fit(X_sm2, y_train_sm2)\n",
    "pred_rfc = rfc.predict(X_test)\n",
    "print(classification_report(y_test, pred_rfc))\n",
    "print(\"The RF model accuracy is %s\" % accuracy_score(y_test, pred_rfc))"
   ]
  },
  {
   "cell_type": "code",
   "execution_count": null,
   "metadata": {},
   "outputs": [],
   "source": [
    "# relabel back : 0 means good, 1 for low, 2 for medium for better visualization\n",
    "y_test_re = list(y_test)\n",
    "for i in range(len(y_test_re)):\n",
    "  if y_test_re[i] == 0:\n",
    "    y_test_re[i] = \"good\"\n",
    "  if y_test_re[i] == 1:\n",
    "    y_test_re[i] = \"low\"\n",
    "  if y_test_re[i] == 2:\n",
    "    y_test_re[i] = \"medium\"\n",
    "pred_rfc_re = list(pred_rfc)\n",
    "for i in range(len(pred_rfc_re)):\n",
    "  if pred_rfc_re[i] == 0:\n",
    "    pred_rfc_re[i] = \"good\"\n",
    "  if pred_rfc_re[i] == 1:\n",
    "    pred_rfc_re[i] = \"low\"\n",
    "  if pred_rfc_re[i] == 2:\n",
    "    pred_rfc_re[i] = \"medium\""
   ]
  },
  {
   "cell_type": "code",
   "execution_count": null,
   "metadata": {},
   "outputs": [],
   "source": [
    "y_actu = pd.Series(y_test_re, name='Actual')\n",
    "y_pred = pd.Series(pred_rfc_re, name='Predicted')\n",
    "rfc_confusion = pd.crosstab(y_actu, y_pred)"
   ]
  },
  {
   "cell_type": "code",
   "execution_count": null,
   "metadata": {},
   "outputs": [],
   "source": [
    "rfc_confusion"
   ]
  },
  {
   "cell_type": "markdown",
   "metadata": {},
   "source": [
    "We sacrificed 5% overall accuracy in change of increase 26% in low group and 15% in high group."
   ]
  }
 ],
 "metadata": {
  "colab": {
   "collapsed_sections": [],
   "include_colab_link": true,
   "name": "project.ipynb",
   "provenance": [],
   "toc_visible": true,
   "version": "0.3.2"
  },
  "kernelspec": {
   "display_name": "Python 3",
   "language": "python",
   "name": "python3"
  },
  "language_info": {
   "codemirror_mode": {
    "name": "ipython",
    "version": 3
   },
   "file_extension": ".py",
   "mimetype": "text/x-python",
   "name": "python",
   "nbconvert_exporter": "python",
   "pygments_lexer": "ipython3",
   "version": "3.6.4"
  }
 },
 "nbformat": 4,
 "nbformat_minor": 1
}
