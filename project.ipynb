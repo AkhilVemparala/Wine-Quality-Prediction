{
  "nbformat": 4,
  "nbformat_minor": 0,
  "metadata": {
    "colab": {
      "name": "project.ipynb",
      "version": "0.3.2",
      "provenance": [],
      "collapsed_sections": [],
      "toc_visible": true,
      "include_colab_link": true
    },
    "kernelspec": {
      "name": "python3",
      "display_name": "Python 3"
    }
  },
  "cells": [
    {
      "cell_type": "markdown",
      "metadata": {
        "id": "view-in-github",
        "colab_type": "text"
      },
      "source": [
        "<a href=\"https://colab.research.google.com/github/tqi2/Wine_Quality_Project/blob/master/project.ipynb\" target=\"_parent\"><img src=\"https://colab.research.google.com/assets/colab-badge.svg\" alt=\"Open In Colab\"/></a>"
      ]
    },
    {
      "metadata": {
        "colab_type": "text",
        "id": "cnKpJyQumNiH"
      },
      "cell_type": "markdown",
      "source": [
        "# Worklist\n",
        "## EDA: \n",
        "correlation, each feature count plot, label plot, outliers? label transformation? 1-9 to low medium high\n",
        "split:4898 -> \n",
        "## Feature\n",
        "keep\n",
        "\n",
        "## Modeling\n",
        "\n",
        "** SVM **\n",
        "\n",
        "** Random Forest **\n",
        "\n",
        "** Naive Bayes **\n",
        "\n",
        "** DT **\n",
        "\n",
        "** KNN=1 **\n",
        "\n",
        "## Evaluation\n",
        "\n",
        "Confusion Matrix\n"
      ]
    },
    {
      "metadata": {
        "id": "rp9F8zEBq_Py",
        "colab_type": "text"
      },
      "cell_type": "markdown",
      "source": [
        "# Combine Each One's Work Here"
      ]
    },
    {
      "metadata": {
        "id": "LQFiWCZSd0Qj",
        "colab_type": "code",
        "colab": {}
      },
      "cell_type": "code",
      "source": [
        "import os\n",
        "from google.colab import drive\n",
        "import pandas as pd\n",
        "import seaborn as sns\n",
        "import matplotlib.pyplot as plt\n",
        "%matplotlib inline\n",
        "from sklearn.model_selection import train_test_split\n",
        "from sklearn.metrics import accuracy_score"
      ],
      "execution_count": 0,
      "outputs": []
    },
    {
      "metadata": {
        "id": "fxv9MlynR2rF",
        "colab_type": "code",
        "colab": {}
      },
      "cell_type": "code",
      "source": [
        "# This is white wine\n",
        "wine = pd.read_csv('http://archive.ics.uci.edu/ml/machine-learning-databases/wine-quality/winequality-white.csv',delimiter=\";\")\n",
        "# This is red wine\n",
        "datared = pd.read_csv('http://archive.ics.uci.edu/ml/machine-learning-databases/wine-quality/winequality-red.csv',delimiter=\";\")"
      ],
      "execution_count": 0,
      "outputs": []
    },
    {
      "metadata": {
        "id": "3OO5WRYkR9aw",
        "colab_type": "code",
        "colab": {
          "base_uri": "https://localhost:8080/",
          "height": 34
        },
        "outputId": "1ff97b82-4799-4fcf-a6a6-a3a361a76cb5"
      },
      "cell_type": "code",
      "source": [
        "wine.shape"
      ],
      "execution_count": 11,
      "outputs": [
        {
          "output_type": "execute_result",
          "data": {
            "text/plain": [
              "(4898, 12)"
            ]
          },
          "metadata": {
            "tags": []
          },
          "execution_count": 11
        }
      ]
    },
    {
      "metadata": {
        "id": "tCwuJuqyiltY",
        "colab_type": "code",
        "colab": {
          "base_uri": "https://localhost:8080/",
          "height": 221
        },
        "outputId": "f268503d-2f95-4fda-e738-6fd151432aa1"
      },
      "cell_type": "code",
      "source": [
        "wine.head()"
      ],
      "execution_count": 12,
      "outputs": [
        {
          "output_type": "execute_result",
          "data": {
            "text/html": [
              "<div>\n",
              "<style scoped>\n",
              "    .dataframe tbody tr th:only-of-type {\n",
              "        vertical-align: middle;\n",
              "    }\n",
              "\n",
              "    .dataframe tbody tr th {\n",
              "        vertical-align: top;\n",
              "    }\n",
              "\n",
              "    .dataframe thead th {\n",
              "        text-align: right;\n",
              "    }\n",
              "</style>\n",
              "<table border=\"1\" class=\"dataframe\">\n",
              "  <thead>\n",
              "    <tr style=\"text-align: right;\">\n",
              "      <th></th>\n",
              "      <th>fixed acidity</th>\n",
              "      <th>volatile acidity</th>\n",
              "      <th>citric acid</th>\n",
              "      <th>residual sugar</th>\n",
              "      <th>chlorides</th>\n",
              "      <th>free sulfur dioxide</th>\n",
              "      <th>total sulfur dioxide</th>\n",
              "      <th>density</th>\n",
              "      <th>pH</th>\n",
              "      <th>sulphates</th>\n",
              "      <th>alcohol</th>\n",
              "      <th>quality</th>\n",
              "    </tr>\n",
              "  </thead>\n",
              "  <tbody>\n",
              "    <tr>\n",
              "      <th>0</th>\n",
              "      <td>7.0</td>\n",
              "      <td>0.27</td>\n",
              "      <td>0.36</td>\n",
              "      <td>20.7</td>\n",
              "      <td>0.045</td>\n",
              "      <td>45.0</td>\n",
              "      <td>170.0</td>\n",
              "      <td>1.0010</td>\n",
              "      <td>3.00</td>\n",
              "      <td>0.45</td>\n",
              "      <td>8.8</td>\n",
              "      <td>6</td>\n",
              "    </tr>\n",
              "    <tr>\n",
              "      <th>1</th>\n",
              "      <td>6.3</td>\n",
              "      <td>0.30</td>\n",
              "      <td>0.34</td>\n",
              "      <td>1.6</td>\n",
              "      <td>0.049</td>\n",
              "      <td>14.0</td>\n",
              "      <td>132.0</td>\n",
              "      <td>0.9940</td>\n",
              "      <td>3.30</td>\n",
              "      <td>0.49</td>\n",
              "      <td>9.5</td>\n",
              "      <td>6</td>\n",
              "    </tr>\n",
              "    <tr>\n",
              "      <th>2</th>\n",
              "      <td>8.1</td>\n",
              "      <td>0.28</td>\n",
              "      <td>0.40</td>\n",
              "      <td>6.9</td>\n",
              "      <td>0.050</td>\n",
              "      <td>30.0</td>\n",
              "      <td>97.0</td>\n",
              "      <td>0.9951</td>\n",
              "      <td>3.26</td>\n",
              "      <td>0.44</td>\n",
              "      <td>10.1</td>\n",
              "      <td>6</td>\n",
              "    </tr>\n",
              "    <tr>\n",
              "      <th>3</th>\n",
              "      <td>7.2</td>\n",
              "      <td>0.23</td>\n",
              "      <td>0.32</td>\n",
              "      <td>8.5</td>\n",
              "      <td>0.058</td>\n",
              "      <td>47.0</td>\n",
              "      <td>186.0</td>\n",
              "      <td>0.9956</td>\n",
              "      <td>3.19</td>\n",
              "      <td>0.40</td>\n",
              "      <td>9.9</td>\n",
              "      <td>6</td>\n",
              "    </tr>\n",
              "    <tr>\n",
              "      <th>4</th>\n",
              "      <td>7.2</td>\n",
              "      <td>0.23</td>\n",
              "      <td>0.32</td>\n",
              "      <td>8.5</td>\n",
              "      <td>0.058</td>\n",
              "      <td>47.0</td>\n",
              "      <td>186.0</td>\n",
              "      <td>0.9956</td>\n",
              "      <td>3.19</td>\n",
              "      <td>0.40</td>\n",
              "      <td>9.9</td>\n",
              "      <td>6</td>\n",
              "    </tr>\n",
              "  </tbody>\n",
              "</table>\n",
              "</div>"
            ],
            "text/plain": [
              "   fixed acidity  volatile acidity  citric acid  residual sugar  chlorides  \\\n",
              "0            7.0              0.27         0.36            20.7      0.045   \n",
              "1            6.3              0.30         0.34             1.6      0.049   \n",
              "2            8.1              0.28         0.40             6.9      0.050   \n",
              "3            7.2              0.23         0.32             8.5      0.058   \n",
              "4            7.2              0.23         0.32             8.5      0.058   \n",
              "\n",
              "   free sulfur dioxide  total sulfur dioxide  density    pH  sulphates  \\\n",
              "0                 45.0                 170.0   1.0010  3.00       0.45   \n",
              "1                 14.0                 132.0   0.9940  3.30       0.49   \n",
              "2                 30.0                  97.0   0.9951  3.26       0.44   \n",
              "3                 47.0                 186.0   0.9956  3.19       0.40   \n",
              "4                 47.0                 186.0   0.9956  3.19       0.40   \n",
              "\n",
              "   alcohol  quality  \n",
              "0      8.8        6  \n",
              "1      9.5        6  \n",
              "2     10.1        6  \n",
              "3      9.9        6  \n",
              "4      9.9        6  "
            ]
          },
          "metadata": {
            "tags": []
          },
          "execution_count": 12
        }
      ]
    },
    {
      "metadata": {
        "id": "ayNE0J8olBQH",
        "colab_type": "code",
        "colab": {
          "base_uri": "https://localhost:8080/",
          "height": 85
        },
        "outputId": "29de756a-eeb4-4591-a658-25386ea1875e"
      },
      "cell_type": "code",
      "source": [
        "wine.columns"
      ],
      "execution_count": 13,
      "outputs": [
        {
          "output_type": "execute_result",
          "data": {
            "text/plain": [
              "Index(['fixed acidity', 'volatile acidity', 'citric acid', 'residual sugar',\n",
              "       'chlorides', 'free sulfur dioxide', 'total sulfur dioxide', 'density',\n",
              "       'pH', 'sulphates', 'alcohol', 'quality'],\n",
              "      dtype='object')"
            ]
          },
          "metadata": {
            "tags": []
          },
          "execution_count": 13
        }
      ]
    },
    {
      "metadata": {
        "id": "SLTT-Ls8vdBp",
        "colab_type": "code",
        "colab": {
          "base_uri": "https://localhost:8080/",
          "height": 238
        },
        "outputId": "f216f703-5a79-4960-c6ae-080a310e3e7f"
      },
      "cell_type": "code",
      "source": [
        "wine.isnull().sum()\n",
        "# no missing values"
      ],
      "execution_count": 14,
      "outputs": [
        {
          "output_type": "execute_result",
          "data": {
            "text/plain": [
              "fixed acidity           0\n",
              "volatile acidity        0\n",
              "citric acid             0\n",
              "residual sugar          0\n",
              "chlorides               0\n",
              "free sulfur dioxide     0\n",
              "total sulfur dioxide    0\n",
              "density                 0\n",
              "pH                      0\n",
              "sulphates               0\n",
              "alcohol                 0\n",
              "quality                 0\n",
              "dtype: int64"
            ]
          },
          "metadata": {
            "tags": []
          },
          "execution_count": 14
        }
      ]
    },
    {
      "metadata": {
        "id": "LE2r3GBXwBon",
        "colab_type": "code",
        "colab": {
          "base_uri": "https://localhost:8080/",
          "height": 238
        },
        "outputId": "96eaf497-3b50-4747-f300-2eab70e9dbd1"
      },
      "cell_type": "code",
      "source": [
        "wine.dtypes\n",
        "# all features are quantitive"
      ],
      "execution_count": 15,
      "outputs": [
        {
          "output_type": "execute_result",
          "data": {
            "text/plain": [
              "fixed acidity           float64\n",
              "volatile acidity        float64\n",
              "citric acid             float64\n",
              "residual sugar          float64\n",
              "chlorides               float64\n",
              "free sulfur dioxide     float64\n",
              "total sulfur dioxide    float64\n",
              "density                 float64\n",
              "pH                      float64\n",
              "sulphates               float64\n",
              "alcohol                 float64\n",
              "quality                   int64\n",
              "dtype: object"
            ]
          },
          "metadata": {
            "tags": []
          },
          "execution_count": 15
        }
      ]
    },
    {
      "metadata": {
        "id": "Vu8TPmy1pi8Z",
        "colab_type": "text"
      },
      "cell_type": "markdown",
      "source": [
        "# Individual work\n"
      ]
    },
    {
      "metadata": {
        "id": "D8oOn56eoMp9",
        "colab_type": "text"
      },
      "cell_type": "markdown",
      "source": [
        "## **Reagan **"
      ]
    },
    {
      "metadata": {
        "id": "aK_InDJOXWR8",
        "colab_type": "code",
        "colab": {
          "base_uri": "https://localhost:8080/",
          "height": 34
        },
        "outputId": "c656b571-e9ff-4a38-bfe7-2686393a237b"
      },
      "cell_type": "code",
      "source": [
        "data, target = train_test_split(wine, test_size=898,random_state=42) \n",
        "# later on split \"data\" into train & validate. Put \"target\" in a vault.\n",
        "print(\"%s %s\"%(data.shape,target.shape))"
      ],
      "execution_count": 24,
      "outputs": [
        {
          "output_type": "stream",
          "text": [
            "(4000, 12) (898, 12)\n"
          ],
          "name": "stdout"
        }
      ]
    },
    {
      "metadata": {
        "id": "K5dIoT0JYORI",
        "colab_type": "code",
        "colab": {}
      },
      "cell_type": "code",
      "source": [
        "X=data[data.columns[0:11]]  # features\n",
        "Y=pd.DataFrame(data[data.columns[11]])    # labels (quality)\n",
        "Y.loc[Y['quality'] == 3,'quality'] = 'low'\n",
        "Y.loc[Y['quality'] == 4, \"quality\"] = 'low'\n",
        "Y.loc[Y['quality'] == 5, \"quality\"] = 'medium'\n",
        "Y.loc[Y['quality'] == 6,'quality'] = 'medium'\n",
        "Y.loc[Y['quality'] == 7, \"quality\"] = 'medium'\n",
        "Y.loc[Y['quality'] == 8, \"quality\"] = 'high'\n",
        "Y.loc[Y['quality'] == 9,'quality'] = 'high'\n",
        "\n",
        "target_X=target[target.columns[0:11]]  # features\n",
        "target_Y=pd.DataFrame(target[target.columns[11]]) # labels (quality)\n",
        "target_Y.loc[target_Y['quality'] == 3,'quality'] = 'low'\n",
        "target_Y.loc[target_Y['quality'] == 4, \"quality\"] = 'low'\n",
        "target_Y.loc[target_Y['quality'] == 5, \"quality\"] = 'medium'\n",
        "target_Y.loc[target_Y['quality'] == 6,'quality'] = 'medium'\n",
        "target_Y.loc[target_Y['quality'] == 7, \"quality\"] = 'medium'\n",
        "target_Y.loc[target_Y['quality'] == 8, \"quality\"] = 'high'\n",
        "target_Y.loc[target_Y['quality'] == 9,'quality'] = 'high'"
      ],
      "execution_count": 0,
      "outputs": []
    },
    {
      "metadata": {
        "id": "kPvgF5bgbu1i",
        "colab_type": "text"
      },
      "cell_type": "markdown",
      "source": [
        "👆 Not sure how to re-label"
      ]
    },
    {
      "metadata": {
        "id": "ff5P-ofbY5tf",
        "colab_type": "code",
        "colab": {
          "base_uri": "https://localhost:8080/",
          "height": 153
        },
        "outputId": "0bfef403-38ff-4a24-8fd2-dbdd97923bd0"
      },
      "cell_type": "code",
      "source": [
        "print(Y.quality.value_counts())\n",
        "print(target_Y.quality.value_counts())"
      ],
      "execution_count": 26,
      "outputs": [
        {
          "output_type": "stream",
          "text": [
            "medium    3700\n",
            "low        154\n",
            "high       146\n",
            "Name: quality, dtype: int64\n",
            "medium    835\n",
            "high       34\n",
            "low        29\n",
            "Name: quality, dtype: int64\n"
          ],
          "name": "stdout"
        }
      ]
    },
    {
      "metadata": {
        "id": "KeXPXuxdZDZO",
        "colab_type": "code",
        "colab": {
          "base_uri": "https://localhost:8080/",
          "height": 85
        },
        "outputId": "228a18ec-5661-4d20-f7e2-65dcea8f5212"
      },
      "cell_type": "code",
      "source": [
        "# X is imbalanced. Thus use stratifiedKFold to split data\n",
        "# get the indices\n",
        "from sklearn.model_selection import StratifiedKFold\n",
        "skf = StratifiedKFold(n_splits=4)\n",
        "for train, test in skf.split(X, Y):\n",
        "    print(\"%s %s\" % (len(train),len(test)))"
      ],
      "execution_count": 28,
      "outputs": [
        {
          "output_type": "stream",
          "text": [
            "2999 1001\n",
            "2999 1001\n",
            "3001 999\n",
            "3001 999\n"
          ],
          "name": "stdout"
        }
      ]
    },
    {
      "metadata": {
        "id": "_HYSM691aeem",
        "colab_type": "code",
        "colab": {
          "base_uri": "https://localhost:8080/",
          "height": 34
        },
        "outputId": "c88399f1-652a-4617-ca99-ff3386014f3a"
      },
      "cell_type": "code",
      "source": [
        "# cross validation\n",
        "from sklearn import svm\n",
        "from sklearn.model_selection import cross_val_score\n",
        "svm_clf = svm.SVC(kernel='linear')\n",
        "accuracy = cross_val_score(svm_clf, X, Y.values.ravel(), scoring='accuracy', cv = skf).mean() * 100\n",
        "print(\"Accuracy of SVM model1 is: \" , accuracy)"
      ],
      "execution_count": 29,
      "outputs": [
        {
          "output_type": "stream",
          "text": [
            "Accuracy of SVM model1 is:  92.5000925000925\n"
          ],
          "name": "stdout"
        }
      ]
    },
    {
      "metadata": {
        "id": "HC42UOkeczvU",
        "colab_type": "code",
        "colab": {}
      },
      "cell_type": "code",
      "source": [
        "..."
      ],
      "execution_count": 0,
      "outputs": []
    },
    {
      "metadata": {
        "id": "oHpSszoUbMaS",
        "colab_type": "code",
        "colab": {
          "base_uri": "https://localhost:8080/",
          "height": 34
        },
        "outputId": "f756f30d-388d-4d92-80bc-b17d048eaf52"
      },
      "cell_type": "code",
      "source": [
        "# suppose model1 is the best after tweaking all those parameters\n",
        "# fit the model with 4000 data points from \"data\"\n",
        "# predict data from \"target\". Then use some metrics to evaluate accuracy. \n",
        "svm_clf.fit(X,Y.values.ravel())\n",
        "target_predicted = svm_clf.predict(target_X)\n",
        "accuracy_score(target_Y,target_predicted)"
      ],
      "execution_count": 31,
      "outputs": [
        {
          "output_type": "execute_result",
          "data": {
            "text/plain": [
              "0.9298440979955457"
            ]
          },
          "metadata": {
            "tags": []
          },
          "execution_count": 31
        }
      ]
    },
    {
      "metadata": {
        "id": "13ftomayos3b",
        "colab_type": "text"
      },
      "cell_type": "markdown",
      "source": [
        "## ** Luke **"
      ]
    },
    {
      "metadata": {
        "id": "5M1gpGuRovlX",
        "colab_type": "code",
        "colab": {}
      },
      "cell_type": "code",
      "source": [
        "import pandas as pd\n",
        "import seaborn as sns\n",
        "import numpy as np\n",
        "import matplotlib.pyplot as plt\n",
        "from sklearn.ensemble import RandomForestClassifier\n",
        "from sklearn.svm import SVC\n",
        "from sklearn.metrics import confusion_matrix, classification_report\n",
        "from sklearn.preprocessing import StandardScaler, LabelEncoder\n",
        "from sklearn.model_selection import train_test_split, GridSearchCV, cross_val_score\n",
        "from sklearn.model_selection import train_test_split\n",
        "from sklearn.metrics import accuracy_score\n",
        "%matplotlib inline\n",
        "# remove warnings\n",
        "import warnings\n",
        "warnings.simplefilter(\"ignore\")"
      ],
      "execution_count": 0,
      "outputs": []
    },
    {
      "metadata": {
        "id": "gkf_gP6XrWDD",
        "colab_type": "text"
      },
      "cell_type": "markdown",
      "source": [
        "### Import Data "
      ]
    },
    {
      "metadata": {
        "id": "MdWJKlKspGLV",
        "colab_type": "code",
        "colab": {
          "base_uri": "https://localhost:8080/",
          "height": 34
        },
        "outputId": "b17af096-afc3-45f0-ddd3-b68655be063d"
      },
      "cell_type": "code",
      "source": [
        "# This is white wine\n",
        "wine = pd.read_csv('http://archive.ics.uci.edu/ml/machine-learning-databases/wine-quality/winequality-white.csv',delimiter=\";\")\n",
        "# This is red wine\n",
        "datared = pd.read_csv('http://archive.ics.uci.edu/ml/machine-learning-databases/wine-quality/winequality-red.csv',delimiter=\";\")\n",
        "print(\"Done!\")"
      ],
      "execution_count": 242,
      "outputs": [
        {
          "output_type": "stream",
          "text": [
            "Done!\n"
          ],
          "name": "stdout"
        }
      ]
    },
    {
      "metadata": {
        "id": "rDW5OWN_9JzX",
        "colab_type": "text"
      },
      "cell_type": "markdown",
      "source": [
        "We might only focus on ** white wine** for this project."
      ]
    },
    {
      "metadata": {
        "id": "AxBUbUaarPDD",
        "colab_type": "text"
      },
      "cell_type": "markdown",
      "source": [
        "### Some basic EDA "
      ]
    },
    {
      "metadata": {
        "id": "VRsbs5I_rrrM",
        "colab_type": "code",
        "colab": {
          "base_uri": "https://localhost:8080/",
          "height": 85
        },
        "outputId": "4f91e601-3669-482c-b774-c124a25732d9"
      },
      "cell_type": "code",
      "source": [
        "wine.columns"
      ],
      "execution_count": 243,
      "outputs": [
        {
          "output_type": "execute_result",
          "data": {
            "text/plain": [
              "Index(['fixed acidity', 'volatile acidity', 'citric acid', 'residual sugar',\n",
              "       'chlorides', 'free sulfur dioxide', 'total sulfur dioxide', 'density',\n",
              "       'pH', 'sulphates', 'alcohol', 'quality'],\n",
              "      dtype='object')"
            ]
          },
          "metadata": {
            "tags": []
          },
          "execution_count": 243
        }
      ]
    },
    {
      "metadata": {
        "id": "6vqEJ3k-trMV",
        "colab_type": "text"
      },
      "cell_type": "markdown",
      "source": [
        "#### Bar Plot of Response "
      ]
    },
    {
      "metadata": {
        "id": "JDROSWLMtHvi",
        "colab_type": "code",
        "colab": {
          "base_uri": "https://localhost:8080/",
          "height": 524
        },
        "outputId": "ca67b55b-9a32-4317-bffb-b8f18ff13411"
      },
      "cell_type": "code",
      "source": [
        "plt.figure(figsize=(10,6))\n",
        "sns.countplot(wine[\"quality\"],palette=\"muted\")\n",
        "wine[\"quality\"].value_counts()"
      ],
      "execution_count": 244,
      "outputs": [
        {
          "output_type": "execute_result",
          "data": {
            "text/plain": [
              "6    2198\n",
              "5    1457\n",
              "7     880\n",
              "8     175\n",
              "4     163\n",
              "3      20\n",
              "9       5\n",
              "Name: quality, dtype: int64"
            ]
          },
          "metadata": {
            "tags": []
          },
          "execution_count": 244
        },
        {
          "output_type": "display_data",
          "data": {
            "image/png": "[encoded data removed]",
            "text/plain": [
              "<matplotlib.figure.Figure at 0x7f433c85a0b8>"
            ]
          },
          "metadata": {
            "tags": []
          }
        }
      ]
    },
    {
      "metadata": {
        "id": "k1c25XHJtLa1",
        "colab_type": "text"
      },
      "cell_type": "markdown",
      "source": [
        "The distribution is fairly normal, but small freq for high and low score"
      ]
    },
    {
      "metadata": {
        "id": "Kxu82dLEvxMT",
        "colab_type": "text"
      },
      "cell_type": "markdown",
      "source": [
        "#### Data Transformation \n",
        "\n",
        "We want to transfer the score(num) to low-medium-high quality level(categorical) by: \n",
        "\n",
        "3,4 -> low\n",
        "\n",
        "56 -> medium\n",
        "\n",
        "789 -> high"
      ]
    },
    {
      "metadata": {
        "id": "oVEpRIm4w0Q2",
        "colab_type": "code",
        "colab": {
          "base_uri": "https://localhost:8080/",
          "height": 34
        },
        "outputId": "620782d6-8da5-4f46-c3bd-0116b77f762a"
      },
      "cell_type": "code",
      "source": [
        "quality = wine[\"quality\"].values\n",
        "category = []\n",
        "for num in quality:\n",
        "    if num<5:\n",
        "        category.append(\"Low\")\n",
        "    elif num>6:\n",
        "        category.append(\"High\")\n",
        "    else:\n",
        "        category.append(\"Midium\")\n",
        "print(\"Done!\")"
      ],
      "execution_count": 245,
      "outputs": [
        {
          "output_type": "stream",
          "text": [
            "Done!\n"
          ],
          "name": "stdout"
        }
      ]
    },
    {
      "metadata": {
        "id": "A5Lz9ZOXxBf7",
        "colab_type": "code",
        "colab": {
          "base_uri": "https://localhost:8080/",
          "height": 34
        },
        "outputId": "81a92335-906f-48ea-b530-5527b5ed62c0"
      },
      "cell_type": "code",
      "source": [
        "[(i,category.count(i)) for i in set(category)]"
      ],
      "execution_count": 246,
      "outputs": [
        {
          "output_type": "execute_result",
          "data": {
            "text/plain": [
              "[('High', 1060), ('Midium', 3655), ('Low', 183)]"
            ]
          },
          "metadata": {
            "tags": []
          },
          "execution_count": 246
        }
      ]
    },
    {
      "metadata": {
        "id": "9iu4PYI2yaFz",
        "colab_type": "code",
        "colab": {
          "base_uri": "https://localhost:8080/",
          "height": 391
        },
        "outputId": "00f4e56e-d19a-4bdc-8217-845afa4feb76"
      },
      "cell_type": "code",
      "source": [
        "plt.figure(figsize=(10,6))\n",
        "sns.countplot(category,palette=\"muted\")"
      ],
      "execution_count": 247,
      "outputs": [
        {
          "output_type": "execute_result",
          "data": {
            "text/plain": [
              "<matplotlib.axes._subplots.AxesSubplot at 0x7f433c8b1390>"
            ]
          },
          "metadata": {
            "tags": []
          },
          "execution_count": 247
        },
        {
          "output_type": "display_data",
          "data": {
            "image/png": "[encoded data removed]",
            "text/plain": [
              "<matplotlib.figure.Figure at 0x7f433c839f60>"
            ]
          },
          "metadata": {
            "tags": []
          }
        }
      ]
    },
    {
      "metadata": {
        "id": "pyl3ApTpzLN9",
        "colab_type": "text"
      },
      "cell_type": "markdown",
      "source": [
        "#### Create our new data frame  "
      ]
    },
    {
      "metadata": {
        "id": "M1TA1W8szQ7v",
        "colab_type": "code",
        "colab": {}
      },
      "cell_type": "code",
      "source": [
        "category = pd.DataFrame(data=category, columns=[\"category\"])\n",
        "# Cby concatenationoncatenation\n",
        "data = pd.concat([wine,category],axis=1)\n",
        "# Drop the score\n",
        "data.drop(columns=\"quality\",axis=1,inplace=True)"
      ],
      "execution_count": 0,
      "outputs": []
    },
    {
      "metadata": {
        "id": "rA9ARt-x0Yeg",
        "colab_type": "code",
        "colab": {
          "base_uri": "https://localhost:8080/",
          "height": 159
        },
        "outputId": "ee09cd02-2d04-4a35-c2ac-18e518065982"
      },
      "cell_type": "code",
      "source": [
        "data.head(3)"
      ],
      "execution_count": 249,
      "outputs": [
        {
          "output_type": "execute_result",
          "data": {
            "text/html": [
              "<div>\n",
              "<style scoped>\n",
              "    .dataframe tbody tr th:only-of-type {\n",
              "        vertical-align: middle;\n",
              "    }\n",
              "\n",
              "    .dataframe tbody tr th {\n",
              "        vertical-align: top;\n",
              "    }\n",
              "\n",
              "    .dataframe thead th {\n",
              "        text-align: right;\n",
              "    }\n",
              "</style>\n",
              "<table border=\"1\" class=\"dataframe\">\n",
              "  <thead>\n",
              "    <tr style=\"text-align: right;\">\n",
              "      <th></th>\n",
              "      <th>fixed acidity</th>\n",
              "      <th>volatile acidity</th>\n",
              "      <th>citric acid</th>\n",
              "      <th>residual sugar</th>\n",
              "      <th>chlorides</th>\n",
              "      <th>free sulfur dioxide</th>\n",
              "      <th>total sulfur dioxide</th>\n",
              "      <th>density</th>\n",
              "      <th>pH</th>\n",
              "      <th>sulphates</th>\n",
              "      <th>alcohol</th>\n",
              "      <th>category</th>\n",
              "    </tr>\n",
              "  </thead>\n",
              "  <tbody>\n",
              "    <tr>\n",
              "      <th>0</th>\n",
              "      <td>7.0</td>\n",
              "      <td>0.27</td>\n",
              "      <td>0.36</td>\n",
              "      <td>20.7</td>\n",
              "      <td>0.045</td>\n",
              "      <td>45.0</td>\n",
              "      <td>170.0</td>\n",
              "      <td>1.0010</td>\n",
              "      <td>3.00</td>\n",
              "      <td>0.45</td>\n",
              "      <td>8.8</td>\n",
              "      <td>Midium</td>\n",
              "    </tr>\n",
              "    <tr>\n",
              "      <th>1</th>\n",
              "      <td>6.3</td>\n",
              "      <td>0.30</td>\n",
              "      <td>0.34</td>\n",
              "      <td>1.6</td>\n",
              "      <td>0.049</td>\n",
              "      <td>14.0</td>\n",
              "      <td>132.0</td>\n",
              "      <td>0.9940</td>\n",
              "      <td>3.30</td>\n",
              "      <td>0.49</td>\n",
              "      <td>9.5</td>\n",
              "      <td>Midium</td>\n",
              "    </tr>\n",
              "    <tr>\n",
              "      <th>2</th>\n",
              "      <td>8.1</td>\n",
              "      <td>0.28</td>\n",
              "      <td>0.40</td>\n",
              "      <td>6.9</td>\n",
              "      <td>0.050</td>\n",
              "      <td>30.0</td>\n",
              "      <td>97.0</td>\n",
              "      <td>0.9951</td>\n",
              "      <td>3.26</td>\n",
              "      <td>0.44</td>\n",
              "      <td>10.1</td>\n",
              "      <td>Midium</td>\n",
              "    </tr>\n",
              "  </tbody>\n",
              "</table>\n",
              "</div>"
            ],
            "text/plain": [
              "   fixed acidity  volatile acidity  citric acid  residual sugar  chlorides  \\\n",
              "0            7.0              0.27         0.36            20.7      0.045   \n",
              "1            6.3              0.30         0.34             1.6      0.049   \n",
              "2            8.1              0.28         0.40             6.9      0.050   \n",
              "\n",
              "   free sulfur dioxide  total sulfur dioxide  density    pH  sulphates  \\\n",
              "0                 45.0                 170.0   1.0010  3.00       0.45   \n",
              "1                 14.0                 132.0   0.9940  3.30       0.49   \n",
              "2                 30.0                  97.0   0.9951  3.26       0.44   \n",
              "\n",
              "   alcohol category  \n",
              "0      8.8   Midium  \n",
              "1      9.5   Midium  \n",
              "2     10.1   Midium  "
            ]
          },
          "metadata": {
            "tags": []
          },
          "execution_count": 249
        }
      ]
    },
    {
      "metadata": {
        "id": "YQWF8y8EuK2q",
        "colab_type": "text"
      },
      "cell_type": "markdown",
      "source": [
        "#### Cor Mat to check features "
      ]
    },
    {
      "metadata": {
        "id": "BhL80uU9uU8H",
        "colab_type": "code",
        "colab": {
          "base_uri": "https://localhost:8080/",
          "height": 462
        },
        "outputId": "f563734a-ebdf-4a77-f1bb-7fa0db4c75a4"
      },
      "cell_type": "code",
      "source": [
        "plt.figure(figsize=(12,6))\n",
        "sns.heatmap(wine.corr(),annot=True)"
      ],
      "execution_count": 250,
      "outputs": [
        {
          "output_type": "execute_result",
          "data": {
            "text/plain": [
              "<matplotlib.axes._subplots.AxesSubplot at 0x7f433c884160>"
            ]
          },
          "metadata": {
            "tags": []
          },
          "execution_count": 250
        },
        {
          "output_type": "display_data",
          "data": {
            "image/png": "[encoded data removed]",
            "text/plain": [
              "<matplotlib.figure.Figure at 0x7f433c7c0a90>"
            ]
          },
          "metadata": {
            "tags": []
          }
        }
      ]
    },
    {
      "metadata": {
        "id": "R22jcdmFuZTD",
        "colab_type": "text"
      },
      "cell_type": "markdown",
      "source": [
        "Lokks ok to me, only Density~Residual Sugar shows a large correlation (0.84). We might remove one of them for modeling if necessary  in the future"
      ]
    },
    {
      "metadata": {
        "id": "XIdd8NR1u61Q",
        "colab_type": "text"
      },
      "cell_type": "markdown",
      "source": [
        "5 features: citric acid and sugar, free sulfur dioxide, ph, sulphates shows a low correlation."
      ]
    },
    {
      "metadata": {
        "id": "DwI0rw5g1gMU",
        "colab_type": "text"
      },
      "cell_type": "markdown",
      "source": [
        "### Set up model matrix"
      ]
    },
    {
      "metadata": {
        "id": "M2eNxBF72NP1",
        "colab_type": "code",
        "colab": {}
      },
      "cell_type": "code",
      "source": [
        "X = data.iloc[:,:-1].values\n",
        "y = data.iloc[:,-1].values"
      ],
      "execution_count": 0,
      "outputs": []
    },
    {
      "metadata": {
        "id": "byN0-v242UR8",
        "colab_type": "code",
        "colab": {
          "base_uri": "https://localhost:8080/",
          "height": 34
        },
        "outputId": "38a92b87-5416-401b-f646-80393a9ff010"
      },
      "cell_type": "code",
      "source": [
        "X.shape,y.shape"
      ],
      "execution_count": 252,
      "outputs": [
        {
          "output_type": "execute_result",
          "data": {
            "text/plain": [
              "((4898, 11), (4898,))"
            ]
          },
          "metadata": {
            "tags": []
          },
          "execution_count": 252
        }
      ]
    },
    {
      "metadata": {
        "id": "EFdQsQmH2Uyw",
        "colab_type": "code",
        "colab": {}
      },
      "cell_type": "code",
      "source": [
        "from sklearn.preprocessing import LabelEncoder\n",
        "labelencoder_y = LabelEncoder()\n",
        "y = labelencoder_y.fit_transform(y)"
      ],
      "execution_count": 0,
      "outputs": []
    },
    {
      "metadata": {
        "id": "1VqZH3752YxZ",
        "colab_type": "code",
        "colab": {
          "base_uri": "https://localhost:8080/",
          "height": 34
        },
        "outputId": "45fd474e-0fc6-4f8e-9b3d-76dafbd82d22"
      },
      "cell_type": "code",
      "source": [
        "import collections\n",
        "collections.Counter(y)"
      ],
      "execution_count": 254,
      "outputs": [
        {
          "output_type": "execute_result",
          "data": {
            "text/plain": [
              "Counter({0: 1060, 1: 183, 2: 3655})"
            ]
          },
          "metadata": {
            "tags": []
          },
          "execution_count": 254
        }
      ]
    },
    {
      "metadata": {
        "id": "ZRypg_1G_2Cj",
        "colab_type": "text"
      },
      "cell_type": "markdown",
      "source": [
        "0 means good, 1 for low, 2 for medium"
      ]
    },
    {
      "metadata": {
        "id": "w0GiP6h-2hGw",
        "colab_type": "text"
      },
      "cell_type": "markdown",
      "source": [
        "### Train & Test split"
      ]
    },
    {
      "metadata": {
        "id": "Ca_Ev2jp2vXN",
        "colab_type": "code",
        "colab": {}
      },
      "cell_type": "code",
      "source": [
        "from sklearn.model_selection import train_test_split\n",
        "X_train, X_test, y_train, y_test = train_test_split(X, y, test_size = 0.2,random_state=2018)"
      ],
      "execution_count": 0,
      "outputs": []
    },
    {
      "metadata": {
        "id": "i5KWH4Vr6Pm_",
        "colab_type": "code",
        "colab": {
          "base_uri": "https://localhost:8080/",
          "height": 34
        },
        "outputId": "27ce9887-2aa7-4a7a-f7da-b3e488a496d5"
      },
      "cell_type": "code",
      "source": [
        "X_train.shape,X_test.shape"
      ],
      "execution_count": 256,
      "outputs": [
        {
          "output_type": "execute_result",
          "data": {
            "text/plain": [
              "((3918, 11), (980, 11))"
            ]
          },
          "metadata": {
            "tags": []
          },
          "execution_count": 256
        }
      ]
    },
    {
      "metadata": {
        "id": "YneSEQaa6SRG",
        "colab_type": "text"
      },
      "cell_type": "markdown",
      "source": [
        "We have 3918 training data, 980 test. Will use test for final model accuracy comparision. Only use training set to train our model."
      ]
    },
    {
      "metadata": {
        "id": "wHVxSII9-guW",
        "colab_type": "text"
      },
      "cell_type": "markdown",
      "source": [
        "#### Center features"
      ]
    },
    {
      "metadata": {
        "id": "ZfiuR2Lf-nk6",
        "colab_type": "code",
        "colab": {}
      },
      "cell_type": "code",
      "source": [
        "from sklearn.preprocessing import StandardScaler\n",
        "sc_X = StandardScaler()\n",
        "X_train = sc_X.fit_transform(X_train)\n",
        "X_test = sc_X.transform(X_test)"
      ],
      "execution_count": 0,
      "outputs": []
    },
    {
      "metadata": {
        "id": "dMbJbXwB6b3B",
        "colab_type": "text"
      },
      "cell_type": "markdown",
      "source": [
        "### first model\n"
      ]
    },
    {
      "metadata": {
        "id": "NaXlVkZa-ULY",
        "colab_type": "text"
      },
      "cell_type": "markdown",
      "source": [
        "** further we might need resampling tech here**"
      ]
    },
    {
      "metadata": {
        "id": "O3Rxu7c59Xjj",
        "colab_type": "text"
      },
      "cell_type": "markdown",
      "source": [
        "#### 1.Random Forest"
      ]
    },
    {
      "metadata": {
        "id": "9i-pssah91J7",
        "colab_type": "code",
        "colab": {
          "base_uri": "https://localhost:8080/",
          "height": 170
        },
        "outputId": "2369ad38-9696-4c6c-e09c-2d1364ef70c5"
      },
      "cell_type": "code",
      "source": [
        "rfc = RandomForestClassifier(n_estimators=250,random_state = 2018)\n",
        "# might need CV for parameter tuning here\n",
        "rfc.fit(X_train, y_train)\n",
        "pred_rfc = rfc.predict(X_test)\n",
        "print(classification_report(y_test, pred_rfc))\n",
        "print(\"The RF model accuracy is %s\" % accuracy_score(y_test, pred_rfc))"
      ],
      "execution_count": 264,
      "outputs": [
        {
          "output_type": "stream",
          "text": [
            "             precision    recall  f1-score   support\n",
            "\n",
            "          0       0.79      0.62      0.70       209\n",
            "          1       0.67      0.11      0.20        35\n",
            "          2       0.86      0.95      0.90       736\n",
            "\n",
            "avg / total       0.84      0.85      0.83       980\n",
            "\n",
            "The RF model accuracy is 0.85\n"
          ],
          "name": "stdout"
        }
      ]
    },
    {
      "metadata": {
        "id": "LtQHNjwY_Pq_",
        "colab_type": "text"
      },
      "cell_type": "markdown",
      "source": [
        "** confusion matrix **"
      ]
    },
    {
      "metadata": {
        "id": "mI5T6MW5MRWe",
        "colab_type": "code",
        "colab": {}
      },
      "cell_type": "code",
      "source": [
        "# relabel back : 0 means good, 1 for low, 2 for medium for better visualization\n",
        "y_test_re = list(y_test)\n",
        "for i in range(len(y_test_re)):\n",
        "  if y_test_re[i] == 0:\n",
        "    y_test_re[i] = \"good\"\n",
        "  if y_test_re[i] == 1:\n",
        "    y_test_re[i] = \"low\"\n",
        "  if y_test_re[i] == 2:\n",
        "    y_test_re[i] = \"medium\"\n",
        "pred_rfc_re = list(pred_rfc)\n",
        "for i in range(len(pred_rfc_re)):\n",
        "  if pred_rfc_re[i] == 0:\n",
        "    pred_rfc_re[i] = \"good\"\n",
        "  if pred_rfc_re[i] == 1:\n",
        "    pred_rfc_re[i] = \"low\"\n",
        "  if pred_rfc_re[i] == 2:\n",
        "    pred_rfc_re[i] = \"medium\""
      ],
      "execution_count": 0,
      "outputs": []
    },
    {
      "metadata": {
        "id": "d3evXvcAGuyi",
        "colab_type": "code",
        "colab": {}
      },
      "cell_type": "code",
      "source": [
        "y_actu = pd.Series(y_test_re, name='Actual')\n",
        "y_pred = pd.Series(pred_rfc_re, name='Predicted')\n",
        "rfc_confusion = pd.crosstab(y_actu, y_pred)"
      ],
      "execution_count": 0,
      "outputs": []
    },
    {
      "metadata": {
        "id": "xNm0jb-JHx-3",
        "colab_type": "code",
        "colab": {
          "base_uri": "https://localhost:8080/",
          "height": 173
        },
        "outputId": "73239018-34b2-488e-c485-0e4edd42afe7"
      },
      "cell_type": "code",
      "source": [
        "rfc_confusion"
      ],
      "execution_count": 262,
      "outputs": [
        {
          "output_type": "execute_result",
          "data": {
            "text/html": [
              "<div>\n",
              "<style scoped>\n",
              "    .dataframe tbody tr th:only-of-type {\n",
              "        vertical-align: middle;\n",
              "    }\n",
              "\n",
              "    .dataframe tbody tr th {\n",
              "        vertical-align: top;\n",
              "    }\n",
              "\n",
              "    .dataframe thead th {\n",
              "        text-align: right;\n",
              "    }\n",
              "</style>\n",
              "<table border=\"1\" class=\"dataframe\">\n",
              "  <thead>\n",
              "    <tr style=\"text-align: right;\">\n",
              "      <th>Predicted</th>\n",
              "      <th>good</th>\n",
              "      <th>low</th>\n",
              "      <th>medium</th>\n",
              "    </tr>\n",
              "    <tr>\n",
              "      <th>Actual</th>\n",
              "      <th></th>\n",
              "      <th></th>\n",
              "      <th></th>\n",
              "    </tr>\n",
              "  </thead>\n",
              "  <tbody>\n",
              "    <tr>\n",
              "      <th>good</th>\n",
              "      <td>130</td>\n",
              "      <td>0</td>\n",
              "      <td>79</td>\n",
              "    </tr>\n",
              "    <tr>\n",
              "      <th>low</th>\n",
              "      <td>0</td>\n",
              "      <td>4</td>\n",
              "      <td>31</td>\n",
              "    </tr>\n",
              "    <tr>\n",
              "      <th>medium</th>\n",
              "      <td>35</td>\n",
              "      <td>2</td>\n",
              "      <td>699</td>\n",
              "    </tr>\n",
              "  </tbody>\n",
              "</table>\n",
              "</div>"
            ],
            "text/plain": [
              "Predicted  good  low  medium\n",
              "Actual                      \n",
              "good        130    0      79\n",
              "low           0    4      31\n",
              "medium       35    2     699"
            ]
          },
          "metadata": {
            "tags": []
          },
          "execution_count": 262
        }
      ]
    },
    {
      "metadata": {
        "id": "RIHk8JKaQ-rx",
        "colab_type": "text"
      },
      "cell_type": "markdown",
      "source": [
        "#### 2.SVM"
      ]
    },
    {
      "metadata": {
        "id": "YP-ONzgpRCl5",
        "colab_type": "code",
        "colab": {}
      },
      "cell_type": "code",
      "source": [
        ""
      ],
      "execution_count": 0,
      "outputs": []
    }
  ]
}