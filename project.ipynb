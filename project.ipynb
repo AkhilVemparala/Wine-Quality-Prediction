{
  "nbformat": 4,
  "nbformat_minor": 0,
  "metadata": {
    "colab": {
      "name": "project.ipynb",
      "version": "0.3.2",
      "provenance": [],
      "collapsed_sections": [],
      "toc_visible": true
    },
    "kernelspec": {
      "name": "python3",
      "display_name": "Python 3"
    }
  },
  "cells": [
    {
      "metadata": {
        "id": "LQFiWCZSd0Qj",
        "colab_type": "code",
        "colab": {}
      },
      "cell_type": "code",
      "source": [
        "import os\n",
        "from google.colab import drive\n",
        "import pandas as pd\n",
        "import seaborn as sns\n",
        "import matplotlib.pyplot as plt\n",
        "%matplotlib inline\n",
        "from sklearn.model_selection import train_test_split\n",
        "from sklearn.metrics import accuracy_score"
      ],
      "execution_count": 0,
      "outputs": []
    },
    {
      "metadata": {
        "id": "fxv9MlynR2rF",
        "colab_type": "code",
        "colab": {}
      },
      "cell_type": "code",
      "source": [
        "# This is white wine\n",
        "wine = pd.read_csv('http://archive.ics.uci.edu/ml/machine-learning-databases/wine-quality/winequality-white.csv',delimiter=\";\")\n",
        "# This is red wine\n",
        "datared = pd.read_csv('http://archive.ics.uci.edu/ml/machine-learning-databases/wine-quality/winequality-red.csv',delimiter=\";\")"
      ],
      "execution_count": 0,
      "outputs": []
    },
    {
      "metadata": {
        "id": "3OO5WRYkR9aw",
        "colab_type": "code",
        "colab": {
          "base_uri": "https://localhost:8080/",
          "height": 34
        },
        "outputId": "b9df33d6-ca6f-4441-a845-c965bb8a8c32"
      },
      "cell_type": "code",
      "source": [
        "wine.shape"
      ],
      "execution_count": 4,
      "outputs": [
        {
          "output_type": "execute_result",
          "data": {
            "text/plain": [
              "(4898, 12)"
            ]
          },
          "metadata": {
            "tags": []
          },
          "execution_count": 4
        }
      ]
    },
    {
      "metadata": {
        "id": "tCwuJuqyiltY",
        "colab_type": "code",
        "colab": {
          "base_uri": "https://localhost:8080/",
          "height": 221
        },
        "outputId": "aac2ed18-4eb1-49ba-b20c-600eed72b4ff"
      },
      "cell_type": "code",
      "source": [
        "wine.head()"
      ],
      "execution_count": 5,
      "outputs": [
        {
          "output_type": "execute_result",
          "data": {
            "text/html": [
              "<div>\n",
              "<style scoped>\n",
              "    .dataframe tbody tr th:only-of-type {\n",
              "        vertical-align: middle;\n",
              "    }\n",
              "\n",
              "    .dataframe tbody tr th {\n",
              "        vertical-align: top;\n",
              "    }\n",
              "\n",
              "    .dataframe thead th {\n",
              "        text-align: right;\n",
              "    }\n",
              "</style>\n",
              "<table border=\"1\" class=\"dataframe\">\n",
              "  <thead>\n",
              "    <tr style=\"text-align: right;\">\n",
              "      <th></th>\n",
              "      <th>fixed acidity</th>\n",
              "      <th>volatile acidity</th>\n",
              "      <th>citric acid</th>\n",
              "      <th>residual sugar</th>\n",
              "      <th>chlorides</th>\n",
              "      <th>free sulfur dioxide</th>\n",
              "      <th>total sulfur dioxide</th>\n",
              "      <th>density</th>\n",
              "      <th>pH</th>\n",
              "      <th>sulphates</th>\n",
              "      <th>alcohol</th>\n",
              "      <th>quality</th>\n",
              "    </tr>\n",
              "  </thead>\n",
              "  <tbody>\n",
              "    <tr>\n",
              "      <th>0</th>\n",
              "      <td>7.0</td>\n",
              "      <td>0.27</td>\n",
              "      <td>0.36</td>\n",
              "      <td>20.7</td>\n",
              "      <td>0.045</td>\n",
              "      <td>45.0</td>\n",
              "      <td>170.0</td>\n",
              "      <td>1.0010</td>\n",
              "      <td>3.00</td>\n",
              "      <td>0.45</td>\n",
              "      <td>8.8</td>\n",
              "      <td>6</td>\n",
              "    </tr>\n",
              "    <tr>\n",
              "      <th>1</th>\n",
              "      <td>6.3</td>\n",
              "      <td>0.30</td>\n",
              "      <td>0.34</td>\n",
              "      <td>1.6</td>\n",
              "      <td>0.049</td>\n",
              "      <td>14.0</td>\n",
              "      <td>132.0</td>\n",
              "      <td>0.9940</td>\n",
              "      <td>3.30</td>\n",
              "      <td>0.49</td>\n",
              "      <td>9.5</td>\n",
              "      <td>6</td>\n",
              "    </tr>\n",
              "    <tr>\n",
              "      <th>2</th>\n",
              "      <td>8.1</td>\n",
              "      <td>0.28</td>\n",
              "      <td>0.40</td>\n",
              "      <td>6.9</td>\n",
              "      <td>0.050</td>\n",
              "      <td>30.0</td>\n",
              "      <td>97.0</td>\n",
              "      <td>0.9951</td>\n",
              "      <td>3.26</td>\n",
              "      <td>0.44</td>\n",
              "      <td>10.1</td>\n",
              "      <td>6</td>\n",
              "    </tr>\n",
              "    <tr>\n",
              "      <th>3</th>\n",
              "      <td>7.2</td>\n",
              "      <td>0.23</td>\n",
              "      <td>0.32</td>\n",
              "      <td>8.5</td>\n",
              "      <td>0.058</td>\n",
              "      <td>47.0</td>\n",
              "      <td>186.0</td>\n",
              "      <td>0.9956</td>\n",
              "      <td>3.19</td>\n",
              "      <td>0.40</td>\n",
              "      <td>9.9</td>\n",
              "      <td>6</td>\n",
              "    </tr>\n",
              "    <tr>\n",
              "      <th>4</th>\n",
              "      <td>7.2</td>\n",
              "      <td>0.23</td>\n",
              "      <td>0.32</td>\n",
              "      <td>8.5</td>\n",
              "      <td>0.058</td>\n",
              "      <td>47.0</td>\n",
              "      <td>186.0</td>\n",
              "      <td>0.9956</td>\n",
              "      <td>3.19</td>\n",
              "      <td>0.40</td>\n",
              "      <td>9.9</td>\n",
              "      <td>6</td>\n",
              "    </tr>\n",
              "  </tbody>\n",
              "</table>\n",
              "</div>"
            ],
            "text/plain": [
              "   fixed acidity  volatile acidity  citric acid  residual sugar  chlorides  \\\n",
              "0            7.0              0.27         0.36            20.7      0.045   \n",
              "1            6.3              0.30         0.34             1.6      0.049   \n",
              "2            8.1              0.28         0.40             6.9      0.050   \n",
              "3            7.2              0.23         0.32             8.5      0.058   \n",
              "4            7.2              0.23         0.32             8.5      0.058   \n",
              "\n",
              "   free sulfur dioxide  total sulfur dioxide  density    pH  sulphates  \\\n",
              "0                 45.0                 170.0   1.0010  3.00       0.45   \n",
              "1                 14.0                 132.0   0.9940  3.30       0.49   \n",
              "2                 30.0                  97.0   0.9951  3.26       0.44   \n",
              "3                 47.0                 186.0   0.9956  3.19       0.40   \n",
              "4                 47.0                 186.0   0.9956  3.19       0.40   \n",
              "\n",
              "   alcohol  quality  \n",
              "0      8.8        6  \n",
              "1      9.5        6  \n",
              "2     10.1        6  \n",
              "3      9.9        6  \n",
              "4      9.9        6  "
            ]
          },
          "metadata": {
            "tags": []
          },
          "execution_count": 5
        }
      ]
    },
    {
      "metadata": {
        "id": "ayNE0J8olBQH",
        "colab_type": "code",
        "colab": {
          "base_uri": "https://localhost:8080/",
          "height": 85
        },
        "outputId": "eeb93fde-911e-4651-b3a8-54cc8291ef10"
      },
      "cell_type": "code",
      "source": [
        "wine.columns"
      ],
      "execution_count": 6,
      "outputs": [
        {
          "output_type": "execute_result",
          "data": {
            "text/plain": [
              "Index(['fixed acidity', 'volatile acidity', 'citric acid', 'residual sugar',\n",
              "       'chlorides', 'free sulfur dioxide', 'total sulfur dioxide', 'density',\n",
              "       'pH', 'sulphates', 'alcohol', 'quality'],\n",
              "      dtype='object')"
            ]
          },
          "metadata": {
            "tags": []
          },
          "execution_count": 6
        }
      ]
    },
    {
      "metadata": {
        "id": "SLTT-Ls8vdBp",
        "colab_type": "code",
        "colab": {
          "base_uri": "https://localhost:8080/",
          "height": 238
        },
        "outputId": "5b8f6449-6da4-45fc-a219-db473d3b87e0"
      },
      "cell_type": "code",
      "source": [
        "wine.isnull().sum()\n",
        "# no missing values"
      ],
      "execution_count": 7,
      "outputs": [
        {
          "output_type": "execute_result",
          "data": {
            "text/plain": [
              "fixed acidity           0\n",
              "volatile acidity        0\n",
              "citric acid             0\n",
              "residual sugar          0\n",
              "chlorides               0\n",
              "free sulfur dioxide     0\n",
              "total sulfur dioxide    0\n",
              "density                 0\n",
              "pH                      0\n",
              "sulphates               0\n",
              "alcohol                 0\n",
              "quality                 0\n",
              "dtype: int64"
            ]
          },
          "metadata": {
            "tags": []
          },
          "execution_count": 7
        }
      ]
    },
    {
      "metadata": {
        "id": "LE2r3GBXwBon",
        "colab_type": "code",
        "colab": {
          "base_uri": "https://localhost:8080/",
          "height": 238
        },
        "outputId": "41f08c8f-25c1-4dc6-cd33-49e8d569b66d"
      },
      "cell_type": "code",
      "source": [
        "wine.dtypes\n",
        "# all features are quantitive"
      ],
      "execution_count": 8,
      "outputs": [
        {
          "output_type": "execute_result",
          "data": {
            "text/plain": [
              "fixed acidity           float64\n",
              "volatile acidity        float64\n",
              "citric acid             float64\n",
              "residual sugar          float64\n",
              "chlorides               float64\n",
              "free sulfur dioxide     float64\n",
              "total sulfur dioxide    float64\n",
              "density                 float64\n",
              "pH                      float64\n",
              "sulphates               float64\n",
              "alcohol                 float64\n",
              "quality                   int64\n",
              "dtype: object"
            ]
          },
          "metadata": {
            "tags": []
          },
          "execution_count": 8
        }
      ]
    },
    {
      "metadata": {
        "id": "aK_InDJOXWR8",
        "colab_type": "code",
        "colab": {
          "base_uri": "https://localhost:8080/",
          "height": 34
        },
        "outputId": "c656b571-e9ff-4a38-bfe7-2686393a237b"
      },
      "cell_type": "code",
      "source": [
        "data, target = train_test_split(wine, test_size=898,random_state=42) \n",
        "# later on split \"data\" into train & validate. Put \"target\" in a vault.\n",
        "print(\"%s %s\"%(data.shape,target.shape))"
      ],
      "execution_count": 24,
      "outputs": [
        {
          "output_type": "stream",
          "text": [
            "(4000, 12) (898, 12)\n"
          ],
          "name": "stdout"
        }
      ]
    },
    {
      "metadata": {
        "id": "K5dIoT0JYORI",
        "colab_type": "code",
        "colab": {}
      },
      "cell_type": "code",
      "source": [
        "X=data[data.columns[0:11]]  # features\n",
        "Y=pd.DataFrame(data[data.columns[11]])    # labels (quality)\n",
        "Y.loc[Y['quality'] == 3,'quality'] = 'low'\n",
        "Y.loc[Y['quality'] == 4, \"quality\"] = 'low'\n",
        "Y.loc[Y['quality'] == 5, \"quality\"] = 'medium'\n",
        "Y.loc[Y['quality'] == 6,'quality'] = 'medium'\n",
        "Y.loc[Y['quality'] == 7, \"quality\"] = 'medium'\n",
        "Y.loc[Y['quality'] == 8, \"quality\"] = 'high'\n",
        "Y.loc[Y['quality'] == 9,'quality'] = 'high'\n",
        "\n",
        "target_X=target[target.columns[0:11]]  # features\n",
        "target_Y=pd.DataFrame(target[target.columns[11]]) # labels (quality)\n",
        "target_Y.loc[target_Y['quality'] == 3,'quality'] = 'low'\n",
        "target_Y.loc[target_Y['quality'] == 4, \"quality\"] = 'low'\n",
        "target_Y.loc[target_Y['quality'] == 5, \"quality\"] = 'medium'\n",
        "target_Y.loc[target_Y['quality'] == 6,'quality'] = 'medium'\n",
        "target_Y.loc[target_Y['quality'] == 7, \"quality\"] = 'medium'\n",
        "target_Y.loc[target_Y['quality'] == 8, \"quality\"] = 'high'\n",
        "target_Y.loc[target_Y['quality'] == 9,'quality'] = 'high'"
      ],
      "execution_count": 0,
      "outputs": []
    },
    {
      "metadata": {
        "id": "kPvgF5bgbu1i",
        "colab_type": "text"
      },
      "cell_type": "markdown",
      "source": [
        "👆 Not sure how to re-label"
      ]
    },
    {
      "metadata": {
        "id": "ff5P-ofbY5tf",
        "colab_type": "code",
        "colab": {
          "base_uri": "https://localhost:8080/",
          "height": 153
        },
        "outputId": "0bfef403-38ff-4a24-8fd2-dbdd97923bd0"
      },
      "cell_type": "code",
      "source": [
        "print(Y.quality.value_counts())\n",
        "print(target_Y.quality.value_counts())"
      ],
      "execution_count": 26,
      "outputs": [
        {
          "output_type": "stream",
          "text": [
            "medium    3700\n",
            "low        154\n",
            "high       146\n",
            "Name: quality, dtype: int64\n",
            "medium    835\n",
            "high       34\n",
            "low        29\n",
            "Name: quality, dtype: int64\n"
          ],
          "name": "stdout"
        }
      ]
    },
    {
      "metadata": {
        "id": "KeXPXuxdZDZO",
        "colab_type": "code",
        "colab": {
          "base_uri": "https://localhost:8080/",
          "height": 85
        },
        "outputId": "228a18ec-5661-4d20-f7e2-65dcea8f5212"
      },
      "cell_type": "code",
      "source": [
        "# X is imbalanced. Thus use stratifiedKFold to split data\n",
        "# get the indices\n",
        "from sklearn.model_selection import StratifiedKFold\n",
        "skf = StratifiedKFold(n_splits=4)\n",
        "for train, test in skf.split(X, Y):\n",
        "    print(\"%s %s\" % (len(train),len(test)))"
      ],
      "execution_count": 28,
      "outputs": [
        {
          "output_type": "stream",
          "text": [
            "2999 1001\n",
            "2999 1001\n",
            "3001 999\n",
            "3001 999\n"
          ],
          "name": "stdout"
        }
      ]
    },
    {
      "metadata": {
        "id": "_HYSM691aeem",
        "colab_type": "code",
        "colab": {
          "base_uri": "https://localhost:8080/",
          "height": 34
        },
        "outputId": "c88399f1-652a-4617-ca99-ff3386014f3a"
      },
      "cell_type": "code",
      "source": [
        "# cross validation\n",
        "from sklearn import svm\n",
        "from sklearn.model_selection import cross_val_score\n",
        "svm_clf = svm.SVC(kernel='linear')\n",
        "accuracy = cross_val_score(svm_clf, X, Y.values.ravel(), scoring='accuracy', cv = skf).mean() * 100\n",
        "print(\"Accuracy of SVM model1 is: \" , accuracy)"
      ],
      "execution_count": 29,
      "outputs": [
        {
          "output_type": "stream",
          "text": [
            "Accuracy of SVM model1 is:  92.5000925000925\n"
          ],
          "name": "stdout"
        }
      ]
    },
    {
      "metadata": {
        "id": "HC42UOkeczvU",
        "colab_type": "code",
        "colab": {}
      },
      "cell_type": "code",
      "source": [
        "..."
      ],
      "execution_count": 0,
      "outputs": []
    },
    {
      "metadata": {
        "id": "oHpSszoUbMaS",
        "colab_type": "code",
        "colab": {
          "base_uri": "https://localhost:8080/",
          "height": 34
        },
        "outputId": "f756f30d-388d-4d92-80bc-b17d048eaf52"
      },
      "cell_type": "code",
      "source": [
        "# suppose model1 is the best after tweaking all those parameters\n",
        "# fit the model with 4000 data points from \"data\"\n",
        "# predict data from \"target\". Then use some metrics to evaluate accuracy. \n",
        "svm_clf.fit(X,Y.values.ravel())\n",
        "target_predicted = svm_clf.predict(target_X)\n",
        "accuracy_score(target_Y,target_predicted)"
      ],
      "execution_count": 31,
      "outputs": [
        {
          "output_type": "execute_result",
          "data": {
            "text/plain": [
              "0.9298440979955457"
            ]
          },
          "metadata": {
            "tags": []
          },
          "execution_count": 31
        }
      ]
    },
    {
      "metadata": {
        "id": "XtIwA9jStrB0",
        "colab_type": "text"
      },
      "cell_type": "markdown",
      "source": [
        "# Worklist\n",
        "## EDA: \n",
        "correlation, each feature count plot, label plot, outliers? label transformation? 1-9 to low medium high\n",
        "split:4898 -> \n",
        "## Feature\n",
        "keep\n",
        "\n",
        "## Modeling\n",
        "\n",
        "** SVM **\n",
        "\n",
        "** Random Forest **\n",
        "\n",
        "** Naive Bayes **\n",
        "\n",
        "** DT **\n",
        "\n",
        "** KNN=1 **\n",
        "\n",
        "## Evaluation\n",
        "\n",
        "Confusion Matrix\n"
      ]
    },
    {
      "metadata": {
        "id": "kSdzad2rr7dt",
        "colab_type": "text"
      },
      "cell_type": "markdown",
      "source": [
        "### EDA"
      ]
    },
    {
      "metadata": {
        "id": "qSj9xCItrMuo",
        "colab_type": "code",
        "colab": {}
      },
      "cell_type": "code",
      "source": [
        "# data['quality'] "
      ],
      "execution_count": 0,
      "outputs": []
    },
    {
      "metadata": {
        "id": "-6v2MA0BtJbo",
        "colab_type": "code",
        "colab": {
          "base_uri": "https://localhost:8080/",
          "height": 296
        },
        "outputId": "5abe3227-b72a-4aa8-811d-f099c608559b"
      },
      "cell_type": "code",
      "source": [
        "sns.distplot(data['quality'])"
      ],
      "execution_count": 62,
      "outputs": [
        {
          "output_type": "execute_result",
          "data": {
            "text/plain": [
              "<matplotlib.axes._subplots.AxesSubplot at 0x7fad8eb34668>"
            ]
          },
          "metadata": {
            "tags": []
          },
          "execution_count": 62
        },
        {
          "output_type": "display_data",
          "data": {
            "image/png": "[encoded data removed]",
            "text/plain": [
              "<matplotlib.figure.Figure at 0x7fad8eade390>"
            ]
          },
          "metadata": {
            "tags": []
          }
        }
      ]
    }
  ]
}